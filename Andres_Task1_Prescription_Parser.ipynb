{
 "cells": [
  {
   "cell_type": "markdown",
   "metadata": {},
   "source": [
    "# Task 1: Create a Prescription Parser using CRF\n",
    "This task tests your ability to build a Doctor Prescription Parser with the help of CRF model\n",
    "\n",
    "Your job is to build a Prescription Parser that takes a prescription (sentence) as an input and find / label the words in that sentence with one of the already pre-defined labels\n",
    "\n",
    "### Problem: SEQUENCE PREDICTION - Label words in a sentence\n",
    "#### Input : Doctor Prescription in the form of a sentence split into tokens\n",
    "- Ex: Take 2 tablets once a day for 10 days\n",
    "\n",
    "#### Output : FHIR Labels\n",
    "- ('Take', 'Method')\n",
    "- ('2', 'Qty') \n",
    "- ('tablets', 'Form')\n",
    "- ('once', 'Frequency')\n",
    "- ('a', 'Period') \n",
    "- ('day', 'PeriodUnit')\n",
    "- ('for', 'FOR')\n",
    "- ('10', 'Duration')\n",
    "- ('days', 'DurationUnit') "
   ]
  },
  {
   "cell_type": "markdown",
   "metadata": {},
   "source": [
    "### Major Steps\n",
    "- Install necessary library\n",
    "- Import the libraries\n",
    "- Create training data with labels\n",
    "    - Split the sentence into tokens\n",
    "    - Compute POS tags\n",
    "    - Create triples\n",
    "- Extract features\n",
    "- Split the data into training and testing set\n",
    "- Create CRF model\n",
    "- Save the CRF model\n",
    "- Load the CRF model\n",
    "- Predict on test data\n",
    "- Accuracy"
   ]
  },
  {
   "cell_type": "markdown",
   "metadata": {},
   "source": [
    "#### Install necesaary library"
   ]
  },
  {
   "cell_type": "code",
   "execution_count": null,
   "metadata": {},
   "outputs": [],
   "source": []
  },
  {
   "cell_type": "markdown",
   "metadata": {},
   "source": [
    "#### Import the necessary libraries"
   ]
  },
  {
   "cell_type": "code",
   "execution_count": 47,
   "metadata": {},
   "outputs": [
    {
     "name": "stderr",
     "output_type": "stream",
     "text": [
      "[nltk_data] Downloading package punkt to C:\\Users\\Andres Lojan\n",
      "[nltk_data]     Yepez\\AppData\\Roaming\\nltk_data...\n",
      "[nltk_data]   Package punkt is already up-to-date!\n",
      "[nltk_data] Downloading package averaged_perceptron_tagger to\n",
      "[nltk_data]     C:\\Users\\Andres Lojan\n",
      "[nltk_data]     Yepez\\AppData\\Roaming\\nltk_data...\n",
      "[nltk_data]   Unzipping taggers\\averaged_perceptron_tagger.zip.\n"
     ]
    },
    {
     "data": {
      "text/plain": [
       "True"
      ]
     },
     "execution_count": 47,
     "metadata": {},
     "output_type": "execute_result"
    }
   ],
   "source": [
    "from nltk.tag import pos_tag\n",
    "from sklearn_crfsuite import CRF, metrics\n",
    "from sklearn.metrics import make_scorer,confusion_matrix\n",
    "from pprint import pprint\n",
    "from sklearn.metrics import f1_score,classification_report\n",
    "from sklearn.pipeline import Pipeline\n",
    "import string\n",
    "import nltk\n",
    "nltk.download('punkt')\n",
    "nltk.download('averaged_perceptron_tagger')"
   ]
  },
  {
   "cell_type": "markdown",
   "metadata": {},
   "source": [
    "### Input data (GIVEN)\n",
    "#### Creating the inputs to the ML model in the following form:\n",
    "- sigs --> ['take 3 tabs for 10 days']       INPUT SIG\n",
    "- input_sigs --> [['take', '3', 'tabs', 'for', '10', 'days']]      TOKENS\n",
    "- output_labels --> [['Method','Qty', 'Form', 'FOR', 'Duration', 'DurationUnit']]       LABELS"
   ]
  },
  {
   "cell_type": "code",
   "execution_count": 2,
   "metadata": {},
   "outputs": [],
   "source": [
    "sigs = [\"for 5 to 6 days\", \"inject 2 units\", \"x 2 weeks\", \"x 3 days\", \"every day\", \"every 2 weeks\", \"every 3 days\", \"every 1 to 2 months\", \"every 2 to 6 weeks\", \"every 4 to 6 days\", \"take two to four tabs\", \"take 2 to 4 tabs\", \"take 3 tabs orally bid for 10 days at bedtime\", \"swallow three capsules tid orally\", \"take 2 capsules po every 6 hours\", \"take 2 tabs po for 10 days\", \"take 100 caps by mouth tid for 10 weeks\", \"take 2 tabs after an hour\", \"2 tabs every 4-6 hours\", \"every 4 to 6 hours\", \"q46h\", \"q4-6h\", \"2 hours before breakfast\", \"before 30 mins at bedtime\", \"30 mins before bed\", \"and 100 tabs twice a month\", \"100 tabs twice a month\", \"100 tabs once a month\", \"100 tabs thrice a month\", \"3 tabs daily for 3 days then 1 tab per day at bed\", \"30 tabs 10 days tid\", \"take 30 tabs for 10 days three times a day\", \"qid q6h\", \"bid\", \"qid\", \"30 tabs before dinner and bedtime\", \"30 tabs before dinner & bedtime\", \"take 3 tabs at bedtime\", \"30 tabs thrice daily for 10 days \", \"30 tabs for 10 days three times a day\", \"Take 2 tablets a day\", \"qid for 10 days\", \"every day\", \"take 2 caps at bedtime\", \"apply 3 drops before bedtime\", \"take three capsules daily\", \"swallow 3 pills once a day\", \"swallow three pills thrice a day\", \"apply daily\", \"apply three drops before bedtime\", \"every 6 hours\", \"before food\", \"after food\", \"for 20 days\", \"for twenty days\", \"with meals\"]\n",
    "input_sigs = [['for', '5', 'to', '6', 'days'], ['inject', '2', 'units'], ['x', '2', 'weeks'], ['x', '3', 'days'], ['every', 'day'], ['every', '2', 'weeks'], ['every', '3', 'days'], ['every', '1', 'to', '2', 'months'], ['every', '2', 'to', '6', 'weeks'], ['every', '4', 'to', '6', 'days'], ['take', 'two', 'to', 'four', 'tabs'], ['take', '2', 'to', '4', 'tabs'], ['take', '3', 'tabs', 'orally', 'bid', 'for', '10', 'days', 'at', 'bedtime'], ['swallow', 'three', 'capsules', 'tid', 'orally'], ['take', '2', 'capsules', 'po', 'every', '6', 'hours'], ['take', '2', 'tabs', 'po', 'for', '10', 'days'], ['take', '100', 'caps', 'by', 'mouth', 'tid', 'for', '10', 'weeks'], ['take', '2', 'tabs', 'after', 'an', 'hour'], ['2', 'tabs', 'every', '4-6', 'hours'], ['every', '4', 'to', '6', 'hours'], ['q46h'], ['q4-6h'], ['2', 'hours', 'before', 'breakfast'], ['before', '30', 'mins', 'at', 'bedtime'], ['30', 'mins', 'before', 'bed'], ['and', '100', 'tabs', 'twice', 'a', 'month'], ['100', 'tabs', 'twice', 'a', 'month'], ['100', 'tabs', 'once', 'a', 'month'], ['100', 'tabs', 'thrice', 'a', 'month'], ['3', 'tabs', 'daily', 'for', '3', 'days', 'then', '1', 'tab', 'per', 'day', 'at', 'bed'], ['30', 'tabs', '10', 'days', 'tid'], ['take', '30', 'tabs', 'for', '10', 'days', 'three', 'times', 'a', 'day'], ['qid', 'q6h'], ['bid'], ['qid'], ['30', 'tabs', 'before', 'dinner', 'and', 'bedtime'], ['30', 'tabs', 'before', 'dinner', '&', 'bedtime'], ['take', '3', 'tabs', 'at', 'bedtime'], ['30', 'tabs', 'thrice', 'daily', 'for', '10', 'days'], ['30', 'tabs', 'for', '10', 'days', 'three', 'times', 'a', 'day'], ['take', '2', 'tablets', 'a', 'day'], ['qid', 'for', '10', 'days'], ['every', 'day'], ['take', '2', 'caps', 'at', 'bedtime'], ['apply', '3', 'drops', 'before', 'bedtime'], ['take', 'three', 'capsules', 'daily'], ['swallow', '3', 'pills', 'once', 'a', 'day'], ['swallow', 'three', 'pills', 'thrice', 'a', 'day'], ['apply', 'daily'], ['apply', 'three', 'drops', 'before', 'bedtime'], ['every', '6', 'hours'], ['before', 'food'], ['after', 'food'], ['for', '20', 'days'], ['for', 'twenty', 'days'], ['with', 'meals']]\n",
    "output_labels = [['FOR', 'Duration', 'TO', 'DurationMax', 'DurationUnit'], ['Method', 'Qty', 'Form'], ['FOR', 'Duration', 'DurationUnit'], ['FOR', 'Duration', 'DurationUnit'], ['EVERY', 'Period'], ['EVERY', 'Period', 'PeriodUnit'], ['EVERY', 'Period', 'PeriodUnit'], ['EVERY', 'Period', 'TO', 'PeriodMax', 'PeriodUnit'], ['EVERY', 'Period', 'TO', 'PeriodMax', 'PeriodUnit'], ['EVERY', 'Period', 'TO', 'PeriodMax', 'PeriodUnit'], ['Method', 'Qty', 'TO', 'Qty', 'Form'], ['Method', 'Qty', 'TO', 'Qty', 'Form'], ['Method', 'Qty', 'Form', 'PO', 'BID', 'FOR', 'Duration', 'DurationUnit', 'AT', 'WHEN'], ['Method', 'Qty', 'Form', 'TID', 'PO'], ['Method', 'Qty', 'Form', 'PO', 'EVERY', 'Period', 'PeriodUnit'], ['Method', 'Qty', 'Form', 'PO', 'FOR', 'Duration', 'DurationUnit'], ['Method', 'Qty', 'Form', 'BY', 'PO', 'TID', 'FOR', 'Duration', 'DurationUnit'], ['Method', 'Qty', 'Form', 'AFTER', 'Period', 'PeriodUnit'], ['Qty', 'Form', 'EVERY', 'Period', 'PeriodUnit'], ['EVERY', 'Period', 'TO', 'PeriodMax', 'PeriodUnit'], ['Q46H'], ['Q4-6H'], ['Qty', 'PeriodUnit', 'BEFORE', 'WHEN'], ['BEFORE', 'Qty', 'M', 'AT', 'WHEN'], ['Qty', 'M', 'BEFORE', 'WHEN'], ['AND', 'Qty', 'Form', 'Frequency', 'Period', 'PeriodUnit'], ['Qty', 'Form', 'Frequency', 'Period', 'PeriodUnit'], ['Qty', 'Form', 'Frequency', 'Period', 'PeriodUnit'], ['Qty', 'Form', 'Frequency', 'Period', 'PeriodUnit'], ['Qty', 'Form', 'Frequency', 'FOR', 'Duration', 'DurationUnit', 'THEN', 'Qty', 'Form', 'Frequency', 'PeriodUnit', 'AT', 'WHEN'], ['Qty', 'Form', 'Duration', 'DurationUnit', 'TID'], ['Method', 'Qty', 'Form', 'FOR', 'Duration', 'DurationUnit', 'Qty', 'TIMES', 'Period', 'PeriodUnit'], ['QID', 'Q6H'], ['BID'], ['QID'],['Qty', 'Form', 'BEFORE', 'WHEN', 'AND', 'WHEN'], ['Qty', 'Form', 'BEFORE', 'WHEN', 'AND', 'WHEN'], ['Method', 'Qty', 'Form', 'AT', 'WHEN'], ['Qty', 'Form', 'Frequency', 'DAILY', 'FOR', 'Duration', 'DurationUnit'], ['Qty', 'Form', 'FOR', 'Duration', 'DurationUnit', 'Frequency', 'TIMES', 'Period', 'PeriodUnit'], ['Method', 'Qty', 'Form', 'Period', 'PeriodUnit'], ['QID', 'FOR', 'Duration', 'DurationUnit'], ['EVERY', 'PeriodUnit'], ['Method', 'Qty', 'Form', 'AT', 'WHEN'], ['Method', 'Qty', 'Form', 'BEFORE', 'WHEN'], ['Method', 'Qty', 'Form', 'DAILY'], ['Method', 'Qty', 'Form', 'Frequency', 'Period', 'PeriodUnit'], ['Method', 'Qty', 'Form', 'Frequency', 'Period', 'PeriodUnit'], ['Method', 'DAILY'], ['Method', 'Qty', 'Form', 'BEFORE', 'WHEN'], ['EVERY', 'Period', 'PeriodUnit'], ['BEFORE', 'FOOD'], ['AFTER', 'FOOD'], ['FOR', 'Duration', 'DurationUnit'], ['FOR', 'Duration', 'DurationUnit'], ['WITH', 'FOOD']]"
   ]
  },
  {
   "cell_type": "code",
   "execution_count": 3,
   "metadata": {},
   "outputs": [
    {
     "data": {
      "text/plain": [
       "(56, 56, 56)"
      ]
     },
     "execution_count": 3,
     "metadata": {},
     "output_type": "execute_result"
    }
   ],
   "source": [
    "len(sigs), len(input_sigs) , len(output_labels)"
   ]
  },
  {
   "cell_type": "markdown",
   "metadata": {},
   "source": [
    "### Creating a Tuples Maker method\n",
    "Create the tuples as given below by writing a function **tuples_maker(input_sigs, output_labels)** and returns **output** as given below\n",
    "\n",
    "Input(s): \n",
    "- input_sigs\n",
    "- output_lables\n",
    "\n",
    "Output:\n",
    "\n",
    "[[('for', 'FOR'),\n",
    "  ('5', 'Duration'),\n",
    "  ('to', 'TO'),\n",
    "  ('6', 'DurationMax'),\n",
    "  ('days', 'DurationUnit')], [second sentence], ...]"
   ]
  },
  {
   "cell_type": "code",
   "execution_count": 36,
   "metadata": {},
   "outputs": [],
   "source": [
    "def tuples_maker(input_sigs, output_labels):\n",
    "    sample_data=[]\n",
    "    \n",
    "    for a,b in zip(input_sigs, output_labels):\n",
    "        inner_data=[]\n",
    "        for c,d in zip(a, b):\n",
    "            element=(c,d)\n",
    "            inner_data.append(element) #sample_data\n",
    "        sample_data.append(inner_data)\n",
    "    \n",
    "    return sample_data"
   ]
  },
  {
   "cell_type": "code",
   "execution_count": 52,
   "metadata": {},
   "outputs": [
    {
     "name": "stdout",
     "output_type": "stream",
     "text": [
      "[[('for', 'FOR'), ('5', 'Duration'), ('to', 'TO'), ('6', 'DurationMax'), ('days', 'DurationUnit')], [('inject', 'Method'), ('2', 'Qty'), ('units', 'Form')], [('x', 'FOR'), ('2', 'Duration'), ('weeks', 'DurationUnit')], [('x', 'FOR'), ('3', 'Duration'), ('days', 'DurationUnit')], [('every', 'EVERY'), ('day', 'Period')], [('every', 'EVERY'), ('2', 'Period'), ('weeks', 'PeriodUnit')], [('every', 'EVERY'), ('3', 'Period'), ('days', 'PeriodUnit')], [('every', 'EVERY'), ('1', 'Period'), ('to', 'TO'), ('2', 'PeriodMax'), ('months', 'PeriodUnit')], [('every', 'EVERY'), ('2', 'Period'), ('to', 'TO'), ('6', 'PeriodMax'), ('weeks', 'PeriodUnit')], [('every', 'EVERY'), ('4', 'Period'), ('to', 'TO'), ('6', 'PeriodMax'), ('days', 'PeriodUnit')], [('take', 'Method'), ('two', 'Qty'), ('to', 'TO'), ('four', 'Qty'), ('tabs', 'Form')], [('take', 'Method'), ('2', 'Qty'), ('to', 'TO'), ('4', 'Qty'), ('tabs', 'Form')], [('take', 'Method'), ('3', 'Qty'), ('tabs', 'Form'), ('orally', 'PO'), ('bid', 'BID'), ('for', 'FOR'), ('10', 'Duration'), ('days', 'DurationUnit'), ('at', 'AT'), ('bedtime', 'WHEN')], [('swallow', 'Method'), ('three', 'Qty'), ('capsules', 'Form'), ('tid', 'TID'), ('orally', 'PO')], [('take', 'Method'), ('2', 'Qty'), ('capsules', 'Form'), ('po', 'PO'), ('every', 'EVERY'), ('6', 'Period'), ('hours', 'PeriodUnit')], [('take', 'Method'), ('2', 'Qty'), ('tabs', 'Form'), ('po', 'PO'), ('for', 'FOR'), ('10', 'Duration'), ('days', 'DurationUnit')], [('take', 'Method'), ('100', 'Qty'), ('caps', 'Form'), ('by', 'BY'), ('mouth', 'PO'), ('tid', 'TID'), ('for', 'FOR'), ('10', 'Duration'), ('weeks', 'DurationUnit')], [('take', 'Method'), ('2', 'Qty'), ('tabs', 'Form'), ('after', 'AFTER'), ('an', 'Period'), ('hour', 'PeriodUnit')], [('2', 'Qty'), ('tabs', 'Form'), ('every', 'EVERY'), ('4-6', 'Period'), ('hours', 'PeriodUnit')], [('every', 'EVERY'), ('4', 'Period'), ('to', 'TO'), ('6', 'PeriodMax'), ('hours', 'PeriodUnit')], [('q46h', 'Q46H')], [('q4-6h', 'Q4-6H')], [('2', 'Qty'), ('hours', 'PeriodUnit'), ('before', 'BEFORE'), ('breakfast', 'WHEN')], [('before', 'BEFORE'), ('30', 'Qty'), ('mins', 'M'), ('at', 'AT'), ('bedtime', 'WHEN')], [('30', 'Qty'), ('mins', 'M'), ('before', 'BEFORE'), ('bed', 'WHEN')], [('and', 'AND'), ('100', 'Qty'), ('tabs', 'Form'), ('twice', 'Frequency'), ('a', 'Period'), ('month', 'PeriodUnit')], [('100', 'Qty'), ('tabs', 'Form'), ('twice', 'Frequency'), ('a', 'Period'), ('month', 'PeriodUnit')], [('100', 'Qty'), ('tabs', 'Form'), ('once', 'Frequency'), ('a', 'Period'), ('month', 'PeriodUnit')], [('100', 'Qty'), ('tabs', 'Form'), ('thrice', 'Frequency'), ('a', 'Period'), ('month', 'PeriodUnit')], [('3', 'Qty'), ('tabs', 'Form'), ('daily', 'Frequency'), ('for', 'FOR'), ('3', 'Duration'), ('days', 'DurationUnit'), ('then', 'THEN'), ('1', 'Qty'), ('tab', 'Form'), ('per', 'Frequency'), ('day', 'PeriodUnit'), ('at', 'AT'), ('bed', 'WHEN')], [('30', 'Qty'), ('tabs', 'Form'), ('10', 'Duration'), ('days', 'DurationUnit'), ('tid', 'TID')], [('take', 'Method'), ('30', 'Qty'), ('tabs', 'Form'), ('for', 'FOR'), ('10', 'Duration'), ('days', 'DurationUnit'), ('three', 'Qty'), ('times', 'TIMES'), ('a', 'Period'), ('day', 'PeriodUnit')], [('qid', 'QID'), ('q6h', 'Q6H')], [('bid', 'BID')], [('qid', 'QID')], [('30', 'Qty'), ('tabs', 'Form'), ('before', 'BEFORE'), ('dinner', 'WHEN'), ('and', 'AND'), ('bedtime', 'WHEN')], [('30', 'Qty'), ('tabs', 'Form'), ('before', 'BEFORE'), ('dinner', 'WHEN'), ('&', 'AND'), ('bedtime', 'WHEN')], [('take', 'Method'), ('3', 'Qty'), ('tabs', 'Form'), ('at', 'AT'), ('bedtime', 'WHEN')], [('30', 'Qty'), ('tabs', 'Form'), ('thrice', 'Frequency'), ('daily', 'DAILY'), ('for', 'FOR'), ('10', 'Duration'), ('days', 'DurationUnit')], [('30', 'Qty'), ('tabs', 'Form'), ('for', 'FOR'), ('10', 'Duration'), ('days', 'DurationUnit'), ('three', 'Frequency'), ('times', 'TIMES'), ('a', 'Period'), ('day', 'PeriodUnit')], [('take', 'Method'), ('2', 'Qty'), ('tablets', 'Form'), ('a', 'Period'), ('day', 'PeriodUnit')], [('qid', 'QID'), ('for', 'FOR'), ('10', 'Duration'), ('days', 'DurationUnit')], [('every', 'EVERY'), ('day', 'PeriodUnit')], [('take', 'Method'), ('2', 'Qty'), ('caps', 'Form'), ('at', 'AT'), ('bedtime', 'WHEN')], [('apply', 'Method'), ('3', 'Qty'), ('drops', 'Form'), ('before', 'BEFORE'), ('bedtime', 'WHEN')], [('take', 'Method'), ('three', 'Qty'), ('capsules', 'Form'), ('daily', 'DAILY')], [('swallow', 'Method'), ('3', 'Qty'), ('pills', 'Form'), ('once', 'Frequency'), ('a', 'Period'), ('day', 'PeriodUnit')], [('swallow', 'Method'), ('three', 'Qty'), ('pills', 'Form'), ('thrice', 'Frequency'), ('a', 'Period'), ('day', 'PeriodUnit')], [('apply', 'Method'), ('daily', 'DAILY')], [('apply', 'Method'), ('three', 'Qty'), ('drops', 'Form'), ('before', 'BEFORE'), ('bedtime', 'WHEN')], [('every', 'EVERY'), ('6', 'Period'), ('hours', 'PeriodUnit')], [('before', 'BEFORE'), ('food', 'FOOD')], [('after', 'AFTER'), ('food', 'FOOD')], [('for', 'FOR'), ('20', 'Duration'), ('days', 'DurationUnit')], [('for', 'FOR'), ('twenty', 'Duration'), ('days', 'DurationUnit')], [('with', 'WITH'), ('meals', 'FOOD')]]\n"
     ]
    }
   ],
   "source": [
    "whole_data=tuples_maker(input_sigs, output_labels)\n",
    "print(whole_data)"
   ]
  },
  {
   "cell_type": "markdown",
   "metadata": {},
   "source": [
    "### Creating the triples_maker( ) for feature extraction\n",
    "- input: tuples_maker_output\n",
    "- output: \n",
    "[[('for', 'IN', 'FOR'),\n",
    "  ('5', 'CD', 'Duration'),\n",
    "  ('to', 'TO', 'TO'),\n",
    "  ('6', 'CD', 'DurationMax'),\n",
    "  ('days', 'NNS', 'DurationUnit')], [second sentence], ... ]"
   ]
  },
  {
   "cell_type": "code",
   "execution_count": 49,
   "metadata": {},
   "outputs": [],
   "source": [
    "def triples_maker(whole_data):\n",
    "    demo = []\n",
    "    sample_data = []\n",
    "    for x in whole_data:\n",
    "        for i, j in x:\n",
    "            temp = nltk.word_tokenize(i)\n",
    "            pos = nltk.pos_tag(temp)\n",
    "            temp2 = (pos[0][0], pos[0][1], j)\n",
    "            demo.append(temp2) \n",
    "        sample_data.append(demo)\n",
    "        demo = []\n",
    "    return sample_data"
   ]
  },
  {
   "cell_type": "code",
   "execution_count": 53,
   "metadata": {},
   "outputs": [
    {
     "data": {
      "text/plain": [
       "[[('for', 'IN', 'FOR'),\n",
       "  ('5', 'CD', 'Duration'),\n",
       "  ('to', 'TO', 'TO'),\n",
       "  ('6', 'CD', 'DurationMax'),\n",
       "  ('days', 'NNS', 'DurationUnit')],\n",
       " [('inject', 'NN', 'Method'), ('2', 'CD', 'Qty'), ('units', 'NNS', 'Form')],\n",
       " [('x', 'NN', 'FOR'),\n",
       "  ('2', 'CD', 'Duration'),\n",
       "  ('weeks', 'NNS', 'DurationUnit')],\n",
       " [('x', 'NN', 'FOR'),\n",
       "  ('3', 'CD', 'Duration'),\n",
       "  ('days', 'NNS', 'DurationUnit')],\n",
       " [('every', 'DT', 'EVERY'), ('day', 'NN', 'Period')],\n",
       " [('every', 'DT', 'EVERY'),\n",
       "  ('2', 'CD', 'Period'),\n",
       "  ('weeks', 'NNS', 'PeriodUnit')],\n",
       " [('every', 'DT', 'EVERY'),\n",
       "  ('3', 'CD', 'Period'),\n",
       "  ('days', 'NNS', 'PeriodUnit')],\n",
       " [('every', 'DT', 'EVERY'),\n",
       "  ('1', 'CD', 'Period'),\n",
       "  ('to', 'TO', 'TO'),\n",
       "  ('2', 'CD', 'PeriodMax'),\n",
       "  ('months', 'NNS', 'PeriodUnit')],\n",
       " [('every', 'DT', 'EVERY'),\n",
       "  ('2', 'CD', 'Period'),\n",
       "  ('to', 'TO', 'TO'),\n",
       "  ('6', 'CD', 'PeriodMax'),\n",
       "  ('weeks', 'NNS', 'PeriodUnit')],\n",
       " [('every', 'DT', 'EVERY'),\n",
       "  ('4', 'CD', 'Period'),\n",
       "  ('to', 'TO', 'TO'),\n",
       "  ('6', 'CD', 'PeriodMax'),\n",
       "  ('days', 'NNS', 'PeriodUnit')],\n",
       " [('take', 'VB', 'Method'),\n",
       "  ('two', 'CD', 'Qty'),\n",
       "  ('to', 'TO', 'TO'),\n",
       "  ('four', 'CD', 'Qty'),\n",
       "  ('tabs', 'NNS', 'Form')],\n",
       " [('take', 'VB', 'Method'),\n",
       "  ('2', 'CD', 'Qty'),\n",
       "  ('to', 'TO', 'TO'),\n",
       "  ('4', 'CD', 'Qty'),\n",
       "  ('tabs', 'NNS', 'Form')],\n",
       " [('take', 'VB', 'Method'),\n",
       "  ('3', 'CD', 'Qty'),\n",
       "  ('tabs', 'NNS', 'Form'),\n",
       "  ('orally', 'RB', 'PO'),\n",
       "  ('bid', 'NN', 'BID'),\n",
       "  ('for', 'IN', 'FOR'),\n",
       "  ('10', 'CD', 'Duration'),\n",
       "  ('days', 'NNS', 'DurationUnit'),\n",
       "  ('at', 'IN', 'AT'),\n",
       "  ('bedtime', 'NN', 'WHEN')],\n",
       " [('swallow', 'NN', 'Method'),\n",
       "  ('three', 'CD', 'Qty'),\n",
       "  ('capsules', 'NNS', 'Form'),\n",
       "  ('tid', 'NN', 'TID'),\n",
       "  ('orally', 'RB', 'PO')],\n",
       " [('take', 'VB', 'Method'),\n",
       "  ('2', 'CD', 'Qty'),\n",
       "  ('capsules', 'NNS', 'Form'),\n",
       "  ('po', 'NN', 'PO'),\n",
       "  ('every', 'DT', 'EVERY'),\n",
       "  ('6', 'CD', 'Period'),\n",
       "  ('hours', 'NNS', 'PeriodUnit')],\n",
       " [('take', 'VB', 'Method'),\n",
       "  ('2', 'CD', 'Qty'),\n",
       "  ('tabs', 'NNS', 'Form'),\n",
       "  ('po', 'NN', 'PO'),\n",
       "  ('for', 'IN', 'FOR'),\n",
       "  ('10', 'CD', 'Duration'),\n",
       "  ('days', 'NNS', 'DurationUnit')],\n",
       " [('take', 'VB', 'Method'),\n",
       "  ('100', 'CD', 'Qty'),\n",
       "  ('caps', 'NNS', 'Form'),\n",
       "  ('by', 'IN', 'BY'),\n",
       "  ('mouth', 'NN', 'PO'),\n",
       "  ('tid', 'NN', 'TID'),\n",
       "  ('for', 'IN', 'FOR'),\n",
       "  ('10', 'CD', 'Duration'),\n",
       "  ('weeks', 'NNS', 'DurationUnit')],\n",
       " [('take', 'VB', 'Method'),\n",
       "  ('2', 'CD', 'Qty'),\n",
       "  ('tabs', 'NNS', 'Form'),\n",
       "  ('after', 'IN', 'AFTER'),\n",
       "  ('an', 'DT', 'Period'),\n",
       "  ('hour', 'NN', 'PeriodUnit')],\n",
       " [('2', 'CD', 'Qty'),\n",
       "  ('tabs', 'NNS', 'Form'),\n",
       "  ('every', 'DT', 'EVERY'),\n",
       "  ('4-6', 'JJ', 'Period'),\n",
       "  ('hours', 'NNS', 'PeriodUnit')],\n",
       " [('every', 'DT', 'EVERY'),\n",
       "  ('4', 'CD', 'Period'),\n",
       "  ('to', 'TO', 'TO'),\n",
       "  ('6', 'CD', 'PeriodMax'),\n",
       "  ('hours', 'NNS', 'PeriodUnit')],\n",
       " [('q46h', 'NN', 'Q46H')],\n",
       " [('q4-6h', 'NN', 'Q4-6H')],\n",
       " [('2', 'CD', 'Qty'),\n",
       "  ('hours', 'NNS', 'PeriodUnit'),\n",
       "  ('before', 'IN', 'BEFORE'),\n",
       "  ('breakfast', 'NN', 'WHEN')],\n",
       " [('before', 'IN', 'BEFORE'),\n",
       "  ('30', 'CD', 'Qty'),\n",
       "  ('mins', 'NNS', 'M'),\n",
       "  ('at', 'IN', 'AT'),\n",
       "  ('bedtime', 'NN', 'WHEN')],\n",
       " [('30', 'CD', 'Qty'),\n",
       "  ('mins', 'NNS', 'M'),\n",
       "  ('before', 'IN', 'BEFORE'),\n",
       "  ('bed', 'NN', 'WHEN')],\n",
       " [('and', 'CC', 'AND'),\n",
       "  ('100', 'CD', 'Qty'),\n",
       "  ('tabs', 'NNS', 'Form'),\n",
       "  ('twice', 'RB', 'Frequency'),\n",
       "  ('a', 'DT', 'Period'),\n",
       "  ('month', 'NN', 'PeriodUnit')],\n",
       " [('100', 'CD', 'Qty'),\n",
       "  ('tabs', 'NNS', 'Form'),\n",
       "  ('twice', 'RB', 'Frequency'),\n",
       "  ('a', 'DT', 'Period'),\n",
       "  ('month', 'NN', 'PeriodUnit')],\n",
       " [('100', 'CD', 'Qty'),\n",
       "  ('tabs', 'NNS', 'Form'),\n",
       "  ('once', 'RB', 'Frequency'),\n",
       "  ('a', 'DT', 'Period'),\n",
       "  ('month', 'NN', 'PeriodUnit')],\n",
       " [('100', 'CD', 'Qty'),\n",
       "  ('tabs', 'NNS', 'Form'),\n",
       "  ('thrice', 'NN', 'Frequency'),\n",
       "  ('a', 'DT', 'Period'),\n",
       "  ('month', 'NN', 'PeriodUnit')],\n",
       " [('3', 'CD', 'Qty'),\n",
       "  ('tabs', 'NNS', 'Form'),\n",
       "  ('daily', 'JJ', 'Frequency'),\n",
       "  ('for', 'IN', 'FOR'),\n",
       "  ('3', 'CD', 'Duration'),\n",
       "  ('days', 'NNS', 'DurationUnit'),\n",
       "  ('then', 'RB', 'THEN'),\n",
       "  ('1', 'CD', 'Qty'),\n",
       "  ('tab', 'NN', 'Form'),\n",
       "  ('per', 'IN', 'Frequency'),\n",
       "  ('day', 'NN', 'PeriodUnit'),\n",
       "  ('at', 'IN', 'AT'),\n",
       "  ('bed', 'NN', 'WHEN')],\n",
       " [('30', 'CD', 'Qty'),\n",
       "  ('tabs', 'NNS', 'Form'),\n",
       "  ('10', 'CD', 'Duration'),\n",
       "  ('days', 'NNS', 'DurationUnit'),\n",
       "  ('tid', 'NN', 'TID')],\n",
       " [('take', 'VB', 'Method'),\n",
       "  ('30', 'CD', 'Qty'),\n",
       "  ('tabs', 'NNS', 'Form'),\n",
       "  ('for', 'IN', 'FOR'),\n",
       "  ('10', 'CD', 'Duration'),\n",
       "  ('days', 'NNS', 'DurationUnit'),\n",
       "  ('three', 'CD', 'Qty'),\n",
       "  ('times', 'NNS', 'TIMES'),\n",
       "  ('a', 'DT', 'Period'),\n",
       "  ('day', 'NN', 'PeriodUnit')],\n",
       " [('qid', 'NN', 'QID'), ('q6h', 'NN', 'Q6H')],\n",
       " [('bid', 'NN', 'BID')],\n",
       " [('qid', 'NN', 'QID')],\n",
       " [('30', 'CD', 'Qty'),\n",
       "  ('tabs', 'NNS', 'Form'),\n",
       "  ('before', 'IN', 'BEFORE'),\n",
       "  ('dinner', 'NN', 'WHEN'),\n",
       "  ('and', 'CC', 'AND'),\n",
       "  ('bedtime', 'NN', 'WHEN')],\n",
       " [('30', 'CD', 'Qty'),\n",
       "  ('tabs', 'NNS', 'Form'),\n",
       "  ('before', 'IN', 'BEFORE'),\n",
       "  ('dinner', 'NN', 'WHEN'),\n",
       "  ('&', 'CC', 'AND'),\n",
       "  ('bedtime', 'NN', 'WHEN')],\n",
       " [('take', 'VB', 'Method'),\n",
       "  ('3', 'CD', 'Qty'),\n",
       "  ('tabs', 'NNS', 'Form'),\n",
       "  ('at', 'IN', 'AT'),\n",
       "  ('bedtime', 'NN', 'WHEN')],\n",
       " [('30', 'CD', 'Qty'),\n",
       "  ('tabs', 'NNS', 'Form'),\n",
       "  ('thrice', 'NN', 'Frequency'),\n",
       "  ('daily', 'JJ', 'DAILY'),\n",
       "  ('for', 'IN', 'FOR'),\n",
       "  ('10', 'CD', 'Duration'),\n",
       "  ('days', 'NNS', 'DurationUnit')],\n",
       " [('30', 'CD', 'Qty'),\n",
       "  ('tabs', 'NNS', 'Form'),\n",
       "  ('for', 'IN', 'FOR'),\n",
       "  ('10', 'CD', 'Duration'),\n",
       "  ('days', 'NNS', 'DurationUnit'),\n",
       "  ('three', 'CD', 'Frequency'),\n",
       "  ('times', 'NNS', 'TIMES'),\n",
       "  ('a', 'DT', 'Period'),\n",
       "  ('day', 'NN', 'PeriodUnit')],\n",
       " [('take', 'VB', 'Method'),\n",
       "  ('2', 'CD', 'Qty'),\n",
       "  ('tablets', 'NNS', 'Form'),\n",
       "  ('a', 'DT', 'Period'),\n",
       "  ('day', 'NN', 'PeriodUnit')],\n",
       " [('qid', 'NN', 'QID'),\n",
       "  ('for', 'IN', 'FOR'),\n",
       "  ('10', 'CD', 'Duration'),\n",
       "  ('days', 'NNS', 'DurationUnit')],\n",
       " [('every', 'DT', 'EVERY'), ('day', 'NN', 'PeriodUnit')],\n",
       " [('take', 'VB', 'Method'),\n",
       "  ('2', 'CD', 'Qty'),\n",
       "  ('caps', 'NNS', 'Form'),\n",
       "  ('at', 'IN', 'AT'),\n",
       "  ('bedtime', 'NN', 'WHEN')],\n",
       " [('apply', 'VB', 'Method'),\n",
       "  ('3', 'CD', 'Qty'),\n",
       "  ('drops', 'NNS', 'Form'),\n",
       "  ('before', 'IN', 'BEFORE'),\n",
       "  ('bedtime', 'NN', 'WHEN')],\n",
       " [('take', 'VB', 'Method'),\n",
       "  ('three', 'CD', 'Qty'),\n",
       "  ('capsules', 'NNS', 'Form'),\n",
       "  ('daily', 'JJ', 'DAILY')],\n",
       " [('swallow', 'NN', 'Method'),\n",
       "  ('3', 'CD', 'Qty'),\n",
       "  ('pills', 'NNS', 'Form'),\n",
       "  ('once', 'RB', 'Frequency'),\n",
       "  ('a', 'DT', 'Period'),\n",
       "  ('day', 'NN', 'PeriodUnit')],\n",
       " [('swallow', 'NN', 'Method'),\n",
       "  ('three', 'CD', 'Qty'),\n",
       "  ('pills', 'NNS', 'Form'),\n",
       "  ('thrice', 'NN', 'Frequency'),\n",
       "  ('a', 'DT', 'Period'),\n",
       "  ('day', 'NN', 'PeriodUnit')],\n",
       " [('apply', 'VB', 'Method'), ('daily', 'JJ', 'DAILY')],\n",
       " [('apply', 'VB', 'Method'),\n",
       "  ('three', 'CD', 'Qty'),\n",
       "  ('drops', 'NNS', 'Form'),\n",
       "  ('before', 'IN', 'BEFORE'),\n",
       "  ('bedtime', 'NN', 'WHEN')],\n",
       " [('every', 'DT', 'EVERY'),\n",
       "  ('6', 'CD', 'Period'),\n",
       "  ('hours', 'NNS', 'PeriodUnit')],\n",
       " [('before', 'IN', 'BEFORE'), ('food', 'NN', 'FOOD')],\n",
       " [('after', 'IN', 'AFTER'), ('food', 'NN', 'FOOD')],\n",
       " [('for', 'IN', 'FOR'),\n",
       "  ('20', 'CD', 'Duration'),\n",
       "  ('days', 'NNS', 'DurationUnit')],\n",
       " [('for', 'IN', 'FOR'),\n",
       "  ('twenty', 'NN', 'Duration'),\n",
       "  ('days', 'NNS', 'DurationUnit')],\n",
       " [('with', 'IN', 'WITH'), ('meals', 'NNS', 'FOOD')]]"
      ]
     },
     "execution_count": 53,
     "metadata": {},
     "output_type": "execute_result"
    }
   ],
   "source": [
    "sample_data = triples_maker(whole_data)\n",
    "sample_data"
   ]
  },
  {
   "cell_type": "markdown",
   "metadata": {},
   "source": [
    "### Creating the features extractor method (GIVEN as a BASELINE)\n",
    "#### The features used are:\n",
    "- SOS, EOS, lowercase, uppercase, title, digit, postag, previous_tag, next_tag\n",
    "#### Feel free to include more features"
   ]
  },
  {
   "cell_type": "code",
   "execution_count": 55,
   "metadata": {},
   "outputs": [],
   "source": [
    "def token_to_features(doc, i):\n",
    "    word = doc[i][0]\n",
    "    postag = doc[i][1]\n",
    "\n",
    "    # Common features for all words\n",
    "    features = [\n",
    "        'bias',\n",
    "        'word.lower=' + word.lower(),\n",
    "        'word[-3:]=' + word[-3:],\n",
    "        'word[-2:]=' + word[-2:],\n",
    "        'word.isupper=%s' % word.isupper(),\n",
    "        'word.istitle=%s' % word.istitle(),\n",
    "        'word.isdigit=%s' % word.isdigit(),\n",
    "        'postag=' + postag\n",
    "    ]\n",
    "\n",
    "    # Features for words that are not\n",
    "    # at the beginning of a document\n",
    "    if i > 0:\n",
    "        word1 = doc[i-1][0]\n",
    "        postag1 = doc[i-1][1]\n",
    "        features.extend([\n",
    "            '-1:word.lower=' + word1.lower(),\n",
    "            '-1:word.istitle=%s' % word1.istitle(),\n",
    "            '-1:word.isupper=%s' % word1.isupper(),\n",
    "            '-1:word.isdigit=%s' % word1.isdigit(),\n",
    "            '-1:postag=' + postag1\n",
    "        ])\n",
    "    else:\n",
    "        # Indicate that it is the 'beginning of a document'\n",
    "        features.append('BOS')\n",
    "\n",
    "    # Features for words that are not\n",
    "    # at the end of a document\n",
    "    if i < len(doc)-1:\n",
    "        word1 = doc[i+1][0]\n",
    "        postag1 = doc[i+1][1]\n",
    "        features.extend([\n",
    "            '+1:word.lower=' + word1.lower(),\n",
    "            '+1:word.istitle=%s' % word1.istitle(),\n",
    "            '+1:word.isupper=%s' % word1.isupper(),\n",
    "            '+1:word.isdigit=%s' % word1.isdigit(),\n",
    "            '+1:postag=' + postag1\n",
    "        ])\n",
    "    else:\n",
    "        # Indicate that it is the 'end of a document'\n",
    "        features.append('EOS')\n",
    "\n",
    "    return features"
   ]
  },
  {
   "cell_type": "markdown",
   "metadata": {},
   "source": [
    "### Running the feature extractor on the training data \n",
    "- Feature extraction\n",
    "- Train-test-split"
   ]
  },
  {
   "cell_type": "code",
   "execution_count": 56,
   "metadata": {},
   "outputs": [],
   "source": [
    "from sklearn.model_selection import train_test_split as tts\n",
    "\n",
    "def get_features(doc):\n",
    "    return [token_to_features(doc, i) for i in range(len(doc))]\n",
    "\n",
    "def get_labels(doc):\n",
    "    return [label for (token, postag, label) in doc]\n",
    "\n",
    "X = [get_features(doc) for doc in sample_data]\n",
    "\n",
    "y = [get_labels(doc) for doc in sample_data]\n",
    "\n",
    "xtrain, xtest, ytrain, ytest = tts(X, y, test_size=0.2)"
   ]
  },
  {
   "cell_type": "markdown",
   "metadata": {},
   "source": [
    "### Training the CRF model with the features extracted using the feature extractor method"
   ]
  },
  {
   "cell_type": "code",
   "execution_count": 57,
   "metadata": {},
   "outputs": [
    {
     "name": "stdout",
     "output_type": "stream",
     "text": [
      "Feature generation\n",
      "type: CRF1d\n",
      "feature.minfreq: 0.000000\n",
      "feature.possible_states: 0\n",
      "feature.possible_transitions: 1\n",
      "0....1....2....3....4....5....6....7....8....9....10\n",
      "Number of features: 1846\n",
      "Seconds required: 0.005\n",
      "\n",
      "L-BFGS optimization\n",
      "c1: 0.200000\n",
      "c2: 0.010000\n",
      "num_memories: 6\n",
      "max_iterations: 150\n",
      "epsilon: 0.000010\n",
      "stop: 10\n",
      "delta: 0.000010\n",
      "linesearch: MoreThuente\n",
      "linesearch.max_iterations: 20\n",
      "\n",
      "***** Iteration #1 *****\n",
      "Loss: 591.056350\n",
      "Feature norm: 1.000000\n",
      "Error norm: 115.393011\n",
      "Active features: 921\n",
      "Line search trials: 1\n",
      "Line search step: 0.006588\n",
      "Seconds required for this iteration: 0.003\n",
      "\n",
      "***** Iteration #2 *****\n",
      "Loss: 383.255442\n",
      "Feature norm: 5.411266\n",
      "Error norm: 146.253950\n",
      "Active features: 1083\n",
      "Line search trials: 1\n",
      "Line search step: 1.000000\n",
      "Seconds required for this iteration: 0.003\n",
      "\n",
      "***** Iteration #3 *****\n",
      "Loss: 269.050547\n",
      "Feature norm: 6.618254\n",
      "Error norm: 58.823267\n",
      "Active features: 1070\n",
      "Line search trials: 1\n",
      "Line search step: 1.000000\n",
      "Seconds required for this iteration: 0.001\n",
      "\n",
      "***** Iteration #4 *****\n",
      "Loss: 236.003392\n",
      "Feature norm: 7.236277\n",
      "Error norm: 44.543827\n",
      "Active features: 1098\n",
      "Line search trials: 1\n",
      "Line search step: 1.000000\n",
      "Seconds required for this iteration: 0.001\n",
      "\n",
      "***** Iteration #5 *****\n",
      "Loss: 171.724917\n",
      "Feature norm: 9.085112\n",
      "Error norm: 29.028089\n",
      "Active features: 1027\n",
      "Line search trials: 1\n",
      "Line search step: 1.000000\n",
      "Seconds required for this iteration: 0.001\n",
      "\n",
      "***** Iteration #6 *****\n",
      "Loss: 129.815654\n",
      "Feature norm: 11.926937\n",
      "Error norm: 33.792667\n",
      "Active features: 946\n",
      "Line search trials: 1\n",
      "Line search step: 1.000000\n",
      "Seconds required for this iteration: 0.001\n",
      "\n",
      "***** Iteration #7 *****\n",
      "Loss: 103.612168\n",
      "Feature norm: 13.626582\n",
      "Error norm: 12.596222\n",
      "Active features: 960\n",
      "Line search trials: 1\n",
      "Line search step: 1.000000\n",
      "Seconds required for this iteration: 0.001\n",
      "\n",
      "***** Iteration #8 *****\n",
      "Loss: 94.207337\n",
      "Feature norm: 14.486379\n",
      "Error norm: 8.538959\n",
      "Active features: 962\n",
      "Line search trials: 1\n",
      "Line search step: 1.000000\n",
      "Seconds required for this iteration: 0.002\n",
      "\n",
      "***** Iteration #9 *****\n",
      "Loss: 88.073236\n",
      "Feature norm: 15.981913\n",
      "Error norm: 11.177741\n",
      "Active features: 880\n",
      "Line search trials: 1\n",
      "Line search step: 1.000000\n",
      "Seconds required for this iteration: 0.002\n",
      "\n",
      "***** Iteration #10 *****\n",
      "Loss: 84.309227\n",
      "Feature norm: 16.322100\n",
      "Error norm: 5.821410\n",
      "Active features: 851\n",
      "Line search trials: 1\n",
      "Line search step: 1.000000\n",
      "Seconds required for this iteration: 0.001\n",
      "\n",
      "***** Iteration #11 *****\n",
      "Loss: 82.283770\n",
      "Feature norm: 16.381093\n",
      "Error norm: 4.414328\n",
      "Active features: 789\n",
      "Line search trials: 1\n",
      "Line search step: 1.000000\n",
      "Seconds required for this iteration: 0.001\n",
      "\n",
      "***** Iteration #12 *****\n",
      "Loss: 78.118642\n",
      "Feature norm: 16.752155\n",
      "Error norm: 9.350171\n",
      "Active features: 607\n",
      "Line search trials: 1\n",
      "Line search step: 1.000000\n",
      "Seconds required for this iteration: 0.002\n",
      "\n",
      "***** Iteration #13 *****\n",
      "Loss: 75.886626\n",
      "Feature norm: 16.680618\n",
      "Error norm: 3.627038\n",
      "Active features: 603\n",
      "Line search trials: 1\n",
      "Line search step: 1.000000\n",
      "Seconds required for this iteration: 0.002\n",
      "\n",
      "***** Iteration #14 *****\n",
      "Loss: 74.748376\n",
      "Feature norm: 16.785284\n",
      "Error norm: 3.448130\n",
      "Active features: 551\n",
      "Line search trials: 1\n",
      "Line search step: 1.000000\n",
      "Seconds required for this iteration: 0.001\n",
      "\n",
      "***** Iteration #15 *****\n",
      "Loss: 73.278622\n",
      "Feature norm: 17.136298\n",
      "Error norm: 3.028265\n",
      "Active features: 505\n",
      "Line search trials: 1\n",
      "Line search step: 1.000000\n",
      "Seconds required for this iteration: 0.001\n",
      "\n",
      "***** Iteration #16 *****\n",
      "Loss: 72.183404\n",
      "Feature norm: 17.600165\n",
      "Error norm: 3.180265\n",
      "Active features: 472\n",
      "Line search trials: 1\n",
      "Line search step: 1.000000\n",
      "Seconds required for this iteration: 0.002\n",
      "\n",
      "***** Iteration #17 *****\n",
      "Loss: 71.650439\n",
      "Feature norm: 18.161957\n",
      "Error norm: 3.273649\n",
      "Active features: 448\n",
      "Line search trials: 1\n",
      "Line search step: 1.000000\n",
      "Seconds required for this iteration: 0.000\n",
      "\n",
      "***** Iteration #18 *****\n",
      "Loss: 71.268355\n",
      "Feature norm: 18.259595\n",
      "Error norm: 1.674975\n",
      "Active features: 465\n",
      "Line search trials: 1\n",
      "Line search step: 1.000000\n",
      "Seconds required for this iteration: 0.002\n",
      "\n",
      "***** Iteration #19 *****\n",
      "Loss: 70.765609\n",
      "Feature norm: 18.470083\n",
      "Error norm: 2.473831\n",
      "Active features: 441\n",
      "Line search trials: 1\n",
      "Line search step: 1.000000\n",
      "Seconds required for this iteration: 0.002\n",
      "\n",
      "***** Iteration #20 *****\n",
      "Loss: 70.322554\n",
      "Feature norm: 18.667064\n",
      "Error norm: 1.820910\n",
      "Active features: 414\n",
      "Line search trials: 1\n",
      "Line search step: 1.000000\n",
      "Seconds required for this iteration: 0.002\n",
      "\n",
      "***** Iteration #21 *****\n",
      "Loss: 69.931721\n",
      "Feature norm: 18.898548\n",
      "Error norm: 2.404029\n",
      "Active features: 389\n",
      "Line search trials: 1\n",
      "Line search step: 1.000000\n",
      "Seconds required for this iteration: 0.002\n",
      "\n",
      "***** Iteration #22 *****\n",
      "Loss: 69.731220\n",
      "Feature norm: 19.220266\n",
      "Error norm: 2.778739\n",
      "Active features: 376\n",
      "Line search trials: 1\n",
      "Line search step: 1.000000\n",
      "Seconds required for this iteration: 0.001\n",
      "\n",
      "***** Iteration #23 *****\n",
      "Loss: 69.422728\n",
      "Feature norm: 19.368077\n",
      "Error norm: 1.538980\n",
      "Active features: 375\n",
      "Line search trials: 1\n",
      "Line search step: 1.000000\n",
      "Seconds required for this iteration: 0.001\n",
      "\n",
      "***** Iteration #24 *****\n",
      "Loss: 69.250480\n",
      "Feature norm: 19.427824\n",
      "Error norm: 1.701216\n",
      "Active features: 360\n",
      "Line search trials: 1\n",
      "Line search step: 1.000000\n",
      "Seconds required for this iteration: 0.001\n",
      "\n",
      "***** Iteration #25 *****\n",
      "Loss: 69.084095\n",
      "Feature norm: 19.617340\n",
      "Error norm: 2.323251\n",
      "Active features: 345\n",
      "Line search trials: 1\n",
      "Line search step: 1.000000\n",
      "Seconds required for this iteration: 0.001\n",
      "\n",
      "***** Iteration #26 *****\n",
      "Loss: 68.852175\n",
      "Feature norm: 19.684188\n",
      "Error norm: 1.288678\n",
      "Active features: 350\n",
      "Line search trials: 1\n",
      "Line search step: 1.000000\n",
      "Seconds required for this iteration: 0.001\n",
      "\n",
      "***** Iteration #27 *****\n",
      "Loss: 68.693714\n",
      "Feature norm: 19.774178\n",
      "Error norm: 1.021992\n",
      "Active features: 331\n",
      "Line search trials: 1\n",
      "Line search step: 1.000000\n",
      "Seconds required for this iteration: 0.001\n",
      "\n",
      "***** Iteration #28 *****\n",
      "Loss: 68.594984\n",
      "Feature norm: 19.871936\n",
      "Error norm: 1.627199\n",
      "Active features: 322\n",
      "Line search trials: 2\n",
      "Line search step: 0.500000\n",
      "Seconds required for this iteration: 0.002\n",
      "\n",
      "***** Iteration #29 *****\n",
      "Loss: 68.510664\n",
      "Feature norm: 19.995761\n",
      "Error norm: 1.727350\n",
      "Active features: 314\n",
      "Line search trials: 1\n",
      "Line search step: 1.000000\n",
      "Seconds required for this iteration: 0.000\n",
      "\n",
      "***** Iteration #30 *****\n",
      "Loss: 68.416552\n",
      "Feature norm: 20.050044\n",
      "Error norm: 0.782944\n",
      "Active features: 308\n",
      "Line search trials: 1\n",
      "Line search step: 1.000000\n",
      "Seconds required for this iteration: 0.001\n",
      "\n",
      "***** Iteration #31 *****\n",
      "Loss: 68.355762\n",
      "Feature norm: 20.093758\n",
      "Error norm: 0.630331\n",
      "Active features: 302\n",
      "Line search trials: 1\n",
      "Line search step: 1.000000\n",
      "Seconds required for this iteration: 0.001\n",
      "\n",
      "***** Iteration #32 *****\n",
      "Loss: 68.256679\n",
      "Feature norm: 20.146447\n",
      "Error norm: 0.895310\n",
      "Active features: 300\n",
      "Line search trials: 1\n",
      "Line search step: 1.000000\n",
      "Seconds required for this iteration: 0.001\n",
      "\n",
      "***** Iteration #33 *****\n",
      "Loss: 68.221101\n",
      "Feature norm: 20.253793\n",
      "Error norm: 1.911968\n",
      "Active features: 287\n",
      "Line search trials: 1\n",
      "Line search step: 1.000000\n",
      "Seconds required for this iteration: 0.001\n",
      "\n",
      "***** Iteration #34 *****\n",
      "Loss: 68.134332\n",
      "Feature norm: 20.255593\n",
      "Error norm: 0.417842\n",
      "Active features: 286\n",
      "Line search trials: 1\n",
      "Line search step: 1.000000\n",
      "Seconds required for this iteration: 0.001\n",
      "\n",
      "***** Iteration #35 *****\n",
      "Loss: 68.112498\n",
      "Feature norm: 20.265374\n",
      "Error norm: 0.387078\n",
      "Active features: 284\n",
      "Line search trials: 1\n",
      "Line search step: 1.000000\n",
      "Seconds required for this iteration: 0.001\n",
      "\n",
      "***** Iteration #36 *****\n",
      "Loss: 68.069598\n",
      "Feature norm: 20.297895\n",
      "Error norm: 0.740264\n",
      "Active features: 278\n",
      "Line search trials: 1\n",
      "Line search step: 1.000000\n",
      "Seconds required for this iteration: 0.001\n",
      "\n",
      "***** Iteration #37 *****\n",
      "Loss: 68.043124\n",
      "Feature norm: 20.307035\n",
      "Error norm: 0.643992\n",
      "Active features: 283\n",
      "Line search trials: 1\n",
      "Line search step: 1.000000\n",
      "Seconds required for this iteration: 0.001\n",
      "\n",
      "***** Iteration #38 *****\n",
      "Loss: 68.014340\n",
      "Feature norm: 20.327228\n",
      "Error norm: 0.466158\n",
      "Active features: 281\n",
      "Line search trials: 1\n",
      "Line search step: 1.000000\n",
      "Seconds required for this iteration: 0.001\n",
      "\n",
      "***** Iteration #39 *****\n",
      "Loss: 67.984658\n",
      "Feature norm: 20.351353\n",
      "Error norm: 0.863132\n",
      "Active features: 279\n",
      "Line search trials: 1\n",
      "Line search step: 1.000000\n",
      "Seconds required for this iteration: 0.001\n",
      "\n",
      "***** Iteration #40 *****\n",
      "Loss: 67.968966\n",
      "Feature norm: 20.365595\n",
      "Error norm: 1.061372\n",
      "Active features: 272\n",
      "Line search trials: 1\n",
      "Line search step: 1.000000\n",
      "Seconds required for this iteration: 0.002\n",
      "\n",
      "***** Iteration #41 *****\n",
      "Loss: 67.926703\n",
      "Feature norm: 20.377226\n",
      "Error norm: 0.624715\n",
      "Active features: 272\n",
      "Line search trials: 1\n",
      "Line search step: 1.000000\n",
      "Seconds required for this iteration: 0.000\n",
      "\n",
      "***** Iteration #42 *****\n",
      "Loss: 67.911847\n",
      "Feature norm: 20.417082\n",
      "Error norm: 0.834788\n",
      "Active features: 270\n",
      "Line search trials: 1\n",
      "Line search step: 1.000000\n",
      "Seconds required for this iteration: 0.001\n",
      "\n",
      "***** Iteration #43 *****\n",
      "Loss: 67.891776\n",
      "Feature norm: 20.429021\n",
      "Error norm: 0.793166\n",
      "Active features: 270\n",
      "Line search trials: 1\n",
      "Line search step: 1.000000\n",
      "Seconds required for this iteration: 0.001\n",
      "\n",
      "***** Iteration #44 *****\n",
      "Loss: 67.882339\n",
      "Feature norm: 20.470319\n",
      "Error norm: 0.792526\n",
      "Active features: 268\n",
      "Line search trials: 1\n",
      "Line search step: 1.000000\n",
      "Seconds required for this iteration: 0.001\n",
      "\n",
      "***** Iteration #45 *****\n",
      "Loss: 67.858632\n",
      "Feature norm: 20.481282\n",
      "Error norm: 0.394358\n",
      "Active features: 270\n",
      "Line search trials: 1\n",
      "Line search step: 1.000000\n",
      "Seconds required for this iteration: 0.001\n",
      "\n",
      "***** Iteration #46 *****\n",
      "Loss: 67.845946\n",
      "Feature norm: 20.495962\n",
      "Error norm: 0.387722\n",
      "Active features: 271\n",
      "Line search trials: 1\n",
      "Line search step: 1.000000\n",
      "Seconds required for this iteration: 0.001\n",
      "\n",
      "***** Iteration #47 *****\n",
      "Loss: 67.837444\n",
      "Feature norm: 20.508420\n",
      "Error norm: 0.716755\n",
      "Active features: 268\n",
      "Line search trials: 1\n",
      "Line search step: 1.000000\n",
      "Seconds required for this iteration: 0.001\n",
      "\n",
      "***** Iteration #48 *****\n",
      "Loss: 67.834605\n",
      "Feature norm: 20.547666\n",
      "Error norm: 1.047075\n",
      "Active features: 268\n",
      "Line search trials: 1\n",
      "Line search step: 1.000000\n",
      "Seconds required for this iteration: 0.001\n",
      "\n",
      "***** Iteration #49 *****\n",
      "Loss: 67.806833\n",
      "Feature norm: 20.553307\n",
      "Error norm: 0.310324\n",
      "Active features: 267\n",
      "Line search trials: 1\n",
      "Line search step: 1.000000\n",
      "Seconds required for this iteration: 0.001\n",
      "\n",
      "***** Iteration #50 *****\n",
      "Loss: 67.800642\n",
      "Feature norm: 20.565766\n",
      "Error norm: 0.452921\n",
      "Active features: 268\n",
      "Line search trials: 1\n",
      "Line search step: 1.000000\n",
      "Seconds required for this iteration: 0.001\n",
      "\n",
      "***** Iteration #51 *****\n",
      "Loss: 67.792982\n",
      "Feature norm: 20.581825\n",
      "Error norm: 0.428569\n",
      "Active features: 269\n",
      "Line search trials: 1\n",
      "Line search step: 1.000000\n",
      "Seconds required for this iteration: 0.001\n",
      "\n",
      "***** Iteration #52 *****\n",
      "Loss: 67.787280\n",
      "Feature norm: 20.597026\n",
      "Error norm: 0.266738\n",
      "Active features: 268\n",
      "Line search trials: 2\n",
      "Line search step: 0.500000\n",
      "Seconds required for this iteration: 0.002\n",
      "\n",
      "***** Iteration #53 *****\n",
      "Loss: 67.781451\n",
      "Feature norm: 20.605592\n",
      "Error norm: 0.412448\n",
      "Active features: 266\n",
      "Line search trials: 1\n",
      "Line search step: 1.000000\n",
      "Seconds required for this iteration: 0.001\n",
      "\n",
      "***** Iteration #54 *****\n",
      "Loss: 67.780125\n",
      "Feature norm: 20.638251\n",
      "Error norm: 0.551830\n",
      "Active features: 264\n",
      "Line search trials: 1\n",
      "Line search step: 1.000000\n",
      "Seconds required for this iteration: 0.000\n",
      "\n",
      "***** Iteration #55 *****\n",
      "Loss: 67.770258\n",
      "Feature norm: 20.643496\n",
      "Error norm: 0.381436\n",
      "Active features: 264\n",
      "Line search trials: 1\n",
      "Line search step: 1.000000\n",
      "Seconds required for this iteration: 0.001\n",
      "\n",
      "***** Iteration #56 *****\n",
      "Loss: 67.763981\n",
      "Feature norm: 20.651026\n",
      "Error norm: 0.222590\n",
      "Active features: 263\n",
      "Line search trials: 1\n",
      "Line search step: 1.000000\n",
      "Seconds required for this iteration: 0.002\n",
      "\n",
      "***** Iteration #57 *****\n",
      "Loss: 67.759805\n",
      "Feature norm: 20.663395\n",
      "Error norm: 0.473006\n",
      "Active features: 263\n",
      "Line search trials: 1\n",
      "Line search step: 1.000000\n",
      "Seconds required for this iteration: 0.001\n",
      "\n",
      "***** Iteration #58 *****\n",
      "Loss: 67.751885\n",
      "Feature norm: 20.670495\n",
      "Error norm: 0.207312\n",
      "Active features: 261\n",
      "Line search trials: 1\n",
      "Line search step: 1.000000\n",
      "Seconds required for this iteration: 0.001\n",
      "\n",
      "***** Iteration #59 *****\n",
      "Loss: 67.747510\n",
      "Feature norm: 20.668191\n",
      "Error norm: 0.425254\n",
      "Active features: 260\n",
      "Line search trials: 1\n",
      "Line search step: 1.000000\n",
      "Seconds required for this iteration: 0.001\n",
      "\n",
      "***** Iteration #60 *****\n",
      "Loss: 67.740872\n",
      "Feature norm: 20.680231\n",
      "Error norm: 0.332302\n",
      "Active features: 258\n",
      "Line search trials: 1\n",
      "Line search step: 1.000000\n",
      "Seconds required for this iteration: 0.001\n",
      "\n",
      "***** Iteration #61 *****\n",
      "Loss: 67.738471\n",
      "Feature norm: 20.679827\n",
      "Error norm: 0.504332\n",
      "Active features: 258\n",
      "Line search trials: 1\n",
      "Line search step: 1.000000\n",
      "Seconds required for this iteration: 0.000\n",
      "\n",
      "***** Iteration #62 *****\n",
      "Loss: 67.732157\n",
      "Feature norm: 20.690990\n",
      "Error norm: 0.384637\n",
      "Active features: 255\n",
      "Line search trials: 1\n",
      "Line search step: 1.000000\n",
      "Seconds required for this iteration: 0.001\n",
      "\n",
      "***** Iteration #63 *****\n",
      "Loss: 67.727451\n",
      "Feature norm: 20.688427\n",
      "Error norm: 0.320884\n",
      "Active features: 256\n",
      "Line search trials: 1\n",
      "Line search step: 1.000000\n",
      "Seconds required for this iteration: 0.001\n",
      "\n",
      "***** Iteration #64 *****\n",
      "Loss: 67.724008\n",
      "Feature norm: 20.697421\n",
      "Error norm: 0.310094\n",
      "Active features: 256\n",
      "Line search trials: 1\n",
      "Line search step: 1.000000\n",
      "Seconds required for this iteration: 0.001\n",
      "\n",
      "***** Iteration #65 *****\n",
      "Loss: 67.721772\n",
      "Feature norm: 20.691390\n",
      "Error norm: 0.337551\n",
      "Active features: 255\n",
      "Line search trials: 1\n",
      "Line search step: 1.000000\n",
      "Seconds required for this iteration: 0.001\n",
      "\n",
      "***** Iteration #66 *****\n",
      "Loss: 67.718761\n",
      "Feature norm: 20.697783\n",
      "Error norm: 0.306162\n",
      "Active features: 256\n",
      "Line search trials: 1\n",
      "Line search step: 1.000000\n",
      "Seconds required for this iteration: 0.002\n",
      "\n",
      "***** Iteration #67 *****\n",
      "Loss: 67.716339\n",
      "Feature norm: 20.694439\n",
      "Error norm: 0.264472\n",
      "Active features: 256\n",
      "Line search trials: 1\n",
      "Line search step: 1.000000\n",
      "Seconds required for this iteration: 0.001\n",
      "\n",
      "***** Iteration #68 *****\n",
      "Loss: 67.713411\n",
      "Feature norm: 20.696269\n",
      "Error norm: 0.263287\n",
      "Active features: 256\n",
      "Line search trials: 1\n",
      "Line search step: 1.000000\n",
      "Seconds required for this iteration: 0.001\n",
      "\n",
      "***** Iteration #69 *****\n",
      "Loss: 67.711656\n",
      "Feature norm: 20.693285\n",
      "Error norm: 0.252804\n",
      "Active features: 255\n",
      "Line search trials: 1\n",
      "Line search step: 1.000000\n",
      "Seconds required for this iteration: 0.001\n",
      "\n",
      "***** Iteration #70 *****\n",
      "Loss: 67.710119\n",
      "Feature norm: 20.693999\n",
      "Error norm: 0.325704\n",
      "Active features: 253\n",
      "Line search trials: 1\n",
      "Line search step: 1.000000\n",
      "Seconds required for this iteration: 0.001\n",
      "\n",
      "***** Iteration #71 *****\n",
      "Loss: 67.708373\n",
      "Feature norm: 20.691875\n",
      "Error norm: 0.230139\n",
      "Active features: 253\n",
      "Line search trials: 1\n",
      "Line search step: 1.000000\n",
      "Seconds required for this iteration: 0.000\n",
      "\n",
      "***** Iteration #72 *****\n",
      "Loss: 67.706146\n",
      "Feature norm: 20.691607\n",
      "Error norm: 0.206467\n",
      "Active features: 251\n",
      "Line search trials: 1\n",
      "Line search step: 1.000000\n",
      "Seconds required for this iteration: 0.001\n",
      "\n",
      "***** Iteration #73 *****\n",
      "Loss: 67.704144\n",
      "Feature norm: 20.690239\n",
      "Error norm: 0.158751\n",
      "Active features: 251\n",
      "Line search trials: 1\n",
      "Line search step: 1.000000\n",
      "Seconds required for this iteration: 0.001\n",
      "\n",
      "***** Iteration #74 *****\n",
      "Loss: 67.702165\n",
      "Feature norm: 20.688575\n",
      "Error norm: 0.247128\n",
      "Active features: 250\n",
      "Line search trials: 1\n",
      "Line search step: 1.000000\n",
      "Seconds required for this iteration: 0.001\n",
      "\n",
      "***** Iteration #75 *****\n",
      "Loss: 67.702120\n",
      "Feature norm: 20.688556\n",
      "Error norm: 0.303165\n",
      "Active features: 247\n",
      "Line search trials: 1\n",
      "Line search step: 1.000000\n",
      "Seconds required for this iteration: 0.001\n",
      "\n",
      "***** Iteration #76 *****\n",
      "Loss: 67.699297\n",
      "Feature norm: 20.689991\n",
      "Error norm: 0.276402\n",
      "Active features: 247\n",
      "Line search trials: 1\n",
      "Line search step: 1.000000\n",
      "Seconds required for this iteration: 0.001\n",
      "\n",
      "***** Iteration #77 *****\n",
      "Loss: 67.697456\n",
      "Feature norm: 20.689875\n",
      "Error norm: 0.152868\n",
      "Active features: 245\n",
      "Line search trials: 1\n",
      "Line search step: 1.000000\n",
      "Seconds required for this iteration: 0.001\n",
      "\n",
      "***** Iteration #78 *****\n",
      "Loss: 67.695862\n",
      "Feature norm: 20.687675\n",
      "Error norm: 0.133774\n",
      "Active features: 246\n",
      "Line search trials: 1\n",
      "Line search step: 1.000000\n",
      "Seconds required for this iteration: 0.001\n",
      "\n",
      "***** Iteration #79 *****\n",
      "Loss: 67.694004\n",
      "Feature norm: 20.685416\n",
      "Error norm: 0.113665\n",
      "Active features: 246\n",
      "Line search trials: 1\n",
      "Line search step: 1.000000\n",
      "Seconds required for this iteration: 0.001\n",
      "\n",
      "***** Iteration #80 *****\n",
      "Loss: 67.690247\n",
      "Feature norm: 20.670645\n",
      "Error norm: 0.198182\n",
      "Active features: 246\n",
      "Line search trials: 1\n",
      "Line search step: 1.000000\n",
      "Seconds required for this iteration: 0.001\n",
      "\n",
      "***** Iteration #81 *****\n",
      "Loss: 67.689318\n",
      "Feature norm: 20.675707\n",
      "Error norm: 0.328030\n",
      "Active features: 248\n",
      "Line search trials: 1\n",
      "Line search step: 1.000000\n",
      "Seconds required for this iteration: 0.001\n",
      "\n",
      "***** Iteration #82 *****\n",
      "Loss: 67.686564\n",
      "Feature norm: 20.668819\n",
      "Error norm: 0.215795\n",
      "Active features: 246\n",
      "Line search trials: 1\n",
      "Line search step: 1.000000\n",
      "Seconds required for this iteration: 0.001\n",
      "\n",
      "***** Iteration #83 *****\n",
      "Loss: 67.685147\n",
      "Feature norm: 20.670444\n",
      "Error norm: 0.190764\n",
      "Active features: 247\n",
      "Line search trials: 1\n",
      "Line search step: 1.000000\n",
      "Seconds required for this iteration: 0.001\n",
      "\n",
      "***** Iteration #84 *****\n",
      "Loss: 67.684085\n",
      "Feature norm: 20.670291\n",
      "Error norm: 0.135478\n",
      "Active features: 247\n",
      "Line search trials: 1\n",
      "Line search step: 1.000000\n",
      "Seconds required for this iteration: 0.001\n",
      "\n",
      "***** Iteration #85 *****\n",
      "Loss: 67.682691\n",
      "Feature norm: 20.672808\n",
      "Error norm: 0.094927\n",
      "Active features: 246\n",
      "Line search trials: 1\n",
      "Line search step: 1.000000\n",
      "Seconds required for this iteration: 0.001\n",
      "\n",
      "***** Iteration #86 *****\n",
      "Loss: 67.679786\n",
      "Feature norm: 20.679004\n",
      "Error norm: 0.100362\n",
      "Active features: 244\n",
      "Line search trials: 1\n",
      "Line search step: 1.000000\n",
      "Seconds required for this iteration: 0.001\n",
      "\n",
      "***** Iteration #87 *****\n",
      "Loss: 67.678812\n",
      "Feature norm: 20.683490\n",
      "Error norm: 0.243189\n",
      "Active features: 243\n",
      "Line search trials: 1\n",
      "Line search step: 1.000000\n",
      "Seconds required for this iteration: 0.001\n",
      "\n",
      "***** Iteration #88 *****\n",
      "Loss: 67.677755\n",
      "Feature norm: 20.692195\n",
      "Error norm: 0.217672\n",
      "Active features: 247\n",
      "Line search trials: 1\n",
      "Line search step: 1.000000\n",
      "Seconds required for this iteration: 0.001\n",
      "\n",
      "***** Iteration #89 *****\n",
      "Loss: 67.676328\n",
      "Feature norm: 20.690214\n",
      "Error norm: 0.151036\n",
      "Active features: 247\n",
      "Line search trials: 1\n",
      "Line search step: 1.000000\n",
      "Seconds required for this iteration: 0.001\n",
      "\n",
      "***** Iteration #90 *****\n",
      "Loss: 67.675594\n",
      "Feature norm: 20.691564\n",
      "Error norm: 0.113211\n",
      "Active features: 247\n",
      "Line search trials: 1\n",
      "Line search step: 1.000000\n",
      "Seconds required for this iteration: 0.001\n",
      "\n",
      "***** Iteration #91 *****\n",
      "Loss: 67.674796\n",
      "Feature norm: 20.691233\n",
      "Error norm: 0.082724\n",
      "Active features: 247\n",
      "Line search trials: 1\n",
      "Line search step: 1.000000\n",
      "Seconds required for this iteration: 0.001\n",
      "\n",
      "***** Iteration #92 *****\n",
      "Loss: 67.673807\n",
      "Feature norm: 20.692374\n",
      "Error norm: 0.071773\n",
      "Active features: 246\n",
      "Line search trials: 1\n",
      "Line search step: 1.000000\n",
      "Seconds required for this iteration: 0.001\n",
      "\n",
      "***** Iteration #93 *****\n",
      "Loss: 67.673366\n",
      "Feature norm: 20.691947\n",
      "Error norm: 0.141154\n",
      "Active features: 244\n",
      "Line search trials: 2\n",
      "Line search step: 0.500000\n",
      "Seconds required for this iteration: 0.001\n",
      "\n",
      "***** Iteration #94 *****\n",
      "Loss: 67.672765\n",
      "Feature norm: 20.689739\n",
      "Error norm: 0.134213\n",
      "Active features: 243\n",
      "Line search trials: 1\n",
      "Line search step: 1.000000\n",
      "Seconds required for this iteration: 0.001\n",
      "\n",
      "***** Iteration #95 *****\n",
      "Loss: 67.672103\n",
      "Feature norm: 20.688680\n",
      "Error norm: 0.115041\n",
      "Active features: 243\n",
      "Line search trials: 1\n",
      "Line search step: 1.000000\n",
      "Seconds required for this iteration: 0.001\n",
      "\n",
      "***** Iteration #96 *****\n",
      "Loss: 67.671708\n",
      "Feature norm: 20.688642\n",
      "Error norm: 0.119309\n",
      "Active features: 243\n",
      "Line search trials: 1\n",
      "Line search step: 1.000000\n",
      "Seconds required for this iteration: 0.001\n",
      "\n",
      "***** Iteration #97 *****\n",
      "Loss: 67.671083\n",
      "Feature norm: 20.686960\n",
      "Error norm: 0.069238\n",
      "Active features: 242\n",
      "Line search trials: 1\n",
      "Line search step: 1.000000\n",
      "Seconds required for this iteration: 0.001\n",
      "\n",
      "***** Iteration #98 *****\n",
      "Loss: 67.670508\n",
      "Feature norm: 20.685018\n",
      "Error norm: 0.065829\n",
      "Active features: 242\n",
      "Line search trials: 1\n",
      "Line search step: 1.000000\n",
      "Seconds required for this iteration: 0.001\n",
      "\n",
      "***** Iteration #99 *****\n",
      "Loss: 67.670222\n",
      "Feature norm: 20.684100\n",
      "Error norm: 0.084970\n",
      "Active features: 243\n",
      "Line search trials: 2\n",
      "Line search step: 0.500000\n",
      "Seconds required for this iteration: 0.003\n",
      "\n",
      "***** Iteration #100 *****\n",
      "Loss: 67.669826\n",
      "Feature norm: 20.681914\n",
      "Error norm: 0.068027\n",
      "Active features: 243\n",
      "Line search trials: 2\n",
      "Line search step: 0.500000\n",
      "Seconds required for this iteration: 0.001\n",
      "\n",
      "***** Iteration #101 *****\n",
      "Loss: 67.669553\n",
      "Feature norm: 20.681928\n",
      "Error norm: 0.079791\n",
      "Active features: 243\n",
      "Line search trials: 2\n",
      "Line search step: 0.500000\n",
      "Seconds required for this iteration: 0.002\n",
      "\n",
      "***** Iteration #102 *****\n",
      "Loss: 67.669176\n",
      "Feature norm: 20.680346\n",
      "Error norm: 0.056004\n",
      "Active features: 243\n",
      "Line search trials: 2\n",
      "Line search step: 0.500000\n",
      "Seconds required for this iteration: 0.001\n",
      "\n",
      "***** Iteration #103 *****\n",
      "Loss: 67.669013\n",
      "Feature norm: 20.679519\n",
      "Error norm: 0.069489\n",
      "Active features: 243\n",
      "Line search trials: 2\n",
      "Line search step: 0.500000\n",
      "Seconds required for this iteration: 0.002\n",
      "\n",
      "***** Iteration #104 *****\n",
      "Loss: 67.668739\n",
      "Feature norm: 20.677137\n",
      "Error norm: 0.053361\n",
      "Active features: 241\n",
      "Line search trials: 2\n",
      "Line search step: 0.500000\n",
      "Seconds required for this iteration: 0.002\n",
      "\n",
      "***** Iteration #105 *****\n",
      "Loss: 67.668709\n",
      "Feature norm: 20.676769\n",
      "Error norm: 0.101988\n",
      "Active features: 241\n",
      "Line search trials: 1\n",
      "Line search step: 1.000000\n",
      "Seconds required for this iteration: 0.001\n",
      "\n",
      "***** Iteration #106 *****\n",
      "Loss: 67.668482\n",
      "Feature norm: 20.672461\n",
      "Error norm: 0.090125\n",
      "Active features: 241\n",
      "Line search trials: 1\n",
      "Line search step: 1.000000\n",
      "Seconds required for this iteration: 0.001\n",
      "\n",
      "***** Iteration #107 *****\n",
      "Loss: 67.668262\n",
      "Feature norm: 20.674019\n",
      "Error norm: 0.065241\n",
      "Active features: 241\n",
      "Line search trials: 1\n",
      "Line search step: 1.000000\n",
      "Seconds required for this iteration: 0.001\n",
      "\n",
      "***** Iteration #108 *****\n",
      "Loss: 67.668090\n",
      "Feature norm: 20.673235\n",
      "Error norm: 0.053160\n",
      "Active features: 241\n",
      "Line search trials: 1\n",
      "Line search step: 1.000000\n",
      "Seconds required for this iteration: 0.001\n",
      "\n",
      "***** Iteration #109 *****\n",
      "Loss: 67.667954\n",
      "Feature norm: 20.672728\n",
      "Error norm: 0.040308\n",
      "Active features: 241\n",
      "Line search trials: 1\n",
      "Line search step: 1.000000\n",
      "Seconds required for this iteration: 0.000\n",
      "\n",
      "***** Iteration #110 *****\n",
      "Loss: 67.667696\n",
      "Feature norm: 20.672010\n",
      "Error norm: 0.052479\n",
      "Active features: 243\n",
      "Line search trials: 1\n",
      "Line search step: 1.000000\n",
      "Seconds required for this iteration: 0.001\n",
      "\n",
      "***** Iteration #111 *****\n",
      "Loss: 67.667629\n",
      "Feature norm: 20.675086\n",
      "Error norm: 0.125113\n",
      "Active features: 243\n",
      "Line search trials: 1\n",
      "Line search step: 1.000000\n",
      "Seconds required for this iteration: 0.001\n",
      "\n",
      "***** Iteration #112 *****\n",
      "Loss: 67.667360\n",
      "Feature norm: 20.669888\n",
      "Error norm: 0.140929\n",
      "Active features: 243\n",
      "Line search trials: 1\n",
      "Line search step: 1.000000\n",
      "Seconds required for this iteration: 0.001\n",
      "\n",
      "***** Iteration #113 *****\n",
      "Loss: 67.666799\n",
      "Feature norm: 20.674999\n",
      "Error norm: 0.090397\n",
      "Active features: 242\n",
      "Line search trials: 1\n",
      "Line search step: 1.000000\n",
      "Seconds required for this iteration: 0.001\n",
      "\n",
      "***** Iteration #114 *****\n",
      "Loss: 67.666523\n",
      "Feature norm: 20.673788\n",
      "Error norm: 0.072651\n",
      "Active features: 240\n",
      "Line search trials: 1\n",
      "Line search step: 1.000000\n",
      "Seconds required for this iteration: 0.001\n",
      "\n",
      "***** Iteration #115 *****\n",
      "Loss: 67.666369\n",
      "Feature norm: 20.675045\n",
      "Error norm: 0.044095\n",
      "Active features: 240\n",
      "Line search trials: 1\n",
      "Line search step: 1.000000\n",
      "Seconds required for this iteration: 0.001\n",
      "\n",
      "***** Iteration #116 *****\n",
      "Loss: 67.666260\n",
      "Feature norm: 20.674911\n",
      "Error norm: 0.045312\n",
      "Active features: 240\n",
      "Line search trials: 1\n",
      "Line search step: 1.000000\n",
      "Seconds required for this iteration: 0.001\n",
      "\n",
      "***** Iteration #117 *****\n",
      "Loss: 67.666050\n",
      "Feature norm: 20.676398\n",
      "Error norm: 0.034063\n",
      "Active features: 240\n",
      "Line search trials: 1\n",
      "Line search step: 1.000000\n",
      "Seconds required for this iteration: 0.001\n",
      "\n",
      "***** Iteration #118 *****\n",
      "Loss: 67.665735\n",
      "Feature norm: 20.678086\n",
      "Error norm: 0.038173\n",
      "Active features: 241\n",
      "Line search trials: 1\n",
      "Line search step: 1.000000\n",
      "Seconds required for this iteration: 0.001\n",
      "\n",
      "***** Iteration #119 *****\n",
      "Loss: 67.665458\n",
      "Feature norm: 20.679061\n",
      "Error norm: 0.045687\n",
      "Active features: 241\n",
      "Line search trials: 1\n",
      "Line search step: 1.000000\n",
      "Seconds required for this iteration: 0.001\n",
      "\n",
      "***** Iteration #120 *****\n",
      "Loss: 67.665319\n",
      "Feature norm: 20.679033\n",
      "Error norm: 0.044660\n",
      "Active features: 241\n",
      "Line search trials: 1\n",
      "Line search step: 1.000000\n",
      "Seconds required for this iteration: 0.001\n",
      "\n",
      "***** Iteration #121 *****\n",
      "Loss: 67.665189\n",
      "Feature norm: 20.679170\n",
      "Error norm: 0.047473\n",
      "Active features: 241\n",
      "Line search trials: 1\n",
      "Line search step: 1.000000\n",
      "Seconds required for this iteration: 0.000\n",
      "\n",
      "***** Iteration #122 *****\n",
      "Loss: 67.665021\n",
      "Feature norm: 20.678352\n",
      "Error norm: 0.031465\n",
      "Active features: 241\n",
      "Line search trials: 1\n",
      "Line search step: 1.000000\n",
      "Seconds required for this iteration: 0.001\n",
      "\n",
      "***** Iteration #123 *****\n",
      "Loss: 67.664913\n",
      "Feature norm: 20.677739\n",
      "Error norm: 0.035457\n",
      "Active features: 240\n",
      "Line search trials: 1\n",
      "Line search step: 1.000000\n",
      "Seconds required for this iteration: 0.001\n",
      "\n",
      "***** Iteration #124 *****\n",
      "Loss: 67.664837\n",
      "Feature norm: 20.677282\n",
      "Error norm: 0.050354\n",
      "Active features: 240\n",
      "Line search trials: 1\n",
      "Line search step: 1.000000\n",
      "Seconds required for this iteration: 0.001\n",
      "\n",
      "***** Iteration #125 *****\n",
      "Loss: 67.664716\n",
      "Feature norm: 20.677175\n",
      "Error norm: 0.042411\n",
      "Active features: 241\n",
      "Line search trials: 1\n",
      "Line search step: 1.000000\n",
      "Seconds required for this iteration: 0.001\n",
      "\n",
      "***** Iteration #126 *****\n",
      "Loss: 67.664642\n",
      "Feature norm: 20.676713\n",
      "Error norm: 0.050858\n",
      "Active features: 241\n",
      "Line search trials: 1\n",
      "Line search step: 1.000000\n",
      "Seconds required for this iteration: 0.001\n",
      "\n",
      "***** Iteration #127 *****\n",
      "Loss: 67.664547\n",
      "Feature norm: 20.676961\n",
      "Error norm: 0.039355\n",
      "Active features: 241\n",
      "Line search trials: 1\n",
      "Line search step: 1.000000\n",
      "Seconds required for this iteration: 0.001\n",
      "\n",
      "***** Iteration #128 *****\n",
      "Loss: 67.664466\n",
      "Feature norm: 20.676036\n",
      "Error norm: 0.035109\n",
      "Active features: 241\n",
      "Line search trials: 1\n",
      "Line search step: 1.000000\n",
      "Seconds required for this iteration: 0.001\n",
      "\n",
      "***** Iteration #129 *****\n",
      "Loss: 67.664412\n",
      "Feature norm: 20.675977\n",
      "Error norm: 0.034461\n",
      "Active features: 241\n",
      "Line search trials: 1\n",
      "Line search step: 1.000000\n",
      "Seconds required for this iteration: 0.001\n",
      "\n",
      "***** Iteration #130 *****\n",
      "Loss: 67.664377\n",
      "Feature norm: 20.675054\n",
      "Error norm: 0.040945\n",
      "Active features: 241\n",
      "Line search trials: 1\n",
      "Line search step: 1.000000\n",
      "Seconds required for this iteration: 0.001\n",
      "\n",
      "***** Iteration #131 *****\n",
      "Loss: 67.664335\n",
      "Feature norm: 20.674996\n",
      "Error norm: 0.035730\n",
      "Active features: 241\n",
      "Line search trials: 1\n",
      "Line search step: 1.000000\n",
      "Seconds required for this iteration: 0.001\n",
      "\n",
      "***** Iteration #132 *****\n",
      "Loss: 67.664295\n",
      "Feature norm: 20.674943\n",
      "Error norm: 0.026813\n",
      "Active features: 241\n",
      "Line search trials: 1\n",
      "Line search step: 1.000000\n",
      "Seconds required for this iteration: 0.001\n",
      "\n",
      "***** Iteration #133 *****\n",
      "Loss: 67.664261\n",
      "Feature norm: 20.674453\n",
      "Error norm: 0.022515\n",
      "Active features: 241\n",
      "Line search trials: 1\n",
      "Line search step: 1.000000\n",
      "Seconds required for this iteration: 0.000\n",
      "\n",
      "L-BFGS terminated with the stopping criteria\n",
      "Total seconds required for training: 0.148\n",
      "\n",
      "Storing the model\n",
      "Number of active features: 241 (1846)\n",
      "Number of active attributes: 163 (339)\n",
      "Number of active labels: 31 (31)\n",
      "Writing labels\n",
      "Writing attributes\n",
      "Writing feature references for transitions\n",
      "Writing feature references for attributes\n",
      "Seconds required: 0.004\n",
      "\n"
     ]
    }
   ],
   "source": [
    "import pycrfsuite\n",
    "trainer = pycrfsuite.Trainer(verbose=True)\n",
    "\n",
    "# Submit training data to the trainer\n",
    "for xseq, yseq in zip(xtrain, ytrain):\n",
    "    trainer.append(xseq, yseq)\n",
    "\n",
    "# Set the parameters of the model\n",
    "trainer.set_params({ 'c1': 0.2, 'c2': 0.01, 'max_iterations': 150, 'feature.possible_transitions': True})\n",
    "\n",
    "# Provide a file name as a parameter to the train function, such that\n",
    "# the model will be saved to the file when training is finished\n",
    "trainer.train('crf.model')"
   ]
  },
  {
   "cell_type": "markdown",
   "metadata": {},
   "source": [
    "### Predicting the test data with the built model"
   ]
  },
  {
   "cell_type": "code",
   "execution_count": 58,
   "metadata": {
    "scrolled": true
   },
   "outputs": [],
   "source": [
    "tagger = pycrfsuite.Tagger()\n",
    "tagger.open('crf.model')\n",
    "ypred = [tagger.tag(xseq) for xseq in xtest]"
   ]
  },
  {
   "cell_type": "code",
   "execution_count": 59,
   "metadata": {},
   "outputs": [
    {
     "name": "stdout",
     "output_type": "stream",
     "text": [
      "F-Score = 0.7697619047619049\n",
      "              precision    recall  f1-score   support\n",
      "\n",
      "       AFTER      1.000     1.000     1.000         1\n",
      "         AND      0.000     0.000     0.000         1\n",
      "          AT      0.500     1.000     0.667         1\n",
      "      BEFORE      1.000     1.000     1.000         1\n",
      "         BID      0.000     0.000     0.000         1\n",
      "    Duration      0.750     0.750     0.750         4\n",
      "DurationUnit      0.750     0.750     0.750         4\n",
      "       EVERY      1.000     1.000     1.000         1\n",
      "        FOOD      1.000     1.000     1.000         1\n",
      "         FOR      0.750     1.000     0.857         3\n",
      "        Form      0.857     0.857     0.857         7\n",
      "   Frequency      0.500     0.500     0.500         2\n",
      "      Method      1.000     0.667     0.800         3\n",
      "          PO      0.000     0.000     0.000         1\n",
      "      Period      1.000     1.000     1.000         3\n",
      "  PeriodUnit      1.000     1.000     1.000         3\n",
      "        Q46H      0.000     0.000     0.000         1\n",
      "         Qty      0.750     0.857     0.800         7\n",
      "         TID      1.000     1.000     1.000         1\n",
      "       TIMES      1.000     1.000     1.000         1\n",
      "        WHEN      0.600     1.000     0.750         3\n",
      "\n",
      "    accuracy                          0.800        50\n",
      "   macro avg      0.688     0.732     0.701        50\n",
      "weighted avg      0.756     0.800     0.770        50\n",
      "\n"
     ]
    },
    {
     "name": "stderr",
     "output_type": "stream",
     "text": [
      "C:\\Users\\Andres Lojan Yepez\\anaconda3\\lib\\site-packages\\sklearn\\utils\\validation.py:70: FutureWarning: Pass labels=None as keyword args. From version 1.0 (renaming of 0.25) passing these as positional arguments will result in an error\n",
      "  warnings.warn(f\"Pass {args_msg} as keyword args. From version \"\n",
      "C:\\Users\\Andres Lojan Yepez\\anaconda3\\lib\\site-packages\\sklearn\\metrics\\_classification.py:1245: UndefinedMetricWarning: Precision and F-score are ill-defined and being set to 0.0 in labels with no predicted samples. Use `zero_division` parameter to control this behavior.\n",
      "  _warn_prf(average, modifier, msg_start, len(result))\n",
      "C:\\Users\\Andres Lojan Yepez\\anaconda3\\lib\\site-packages\\sklearn\\metrics\\_classification.py:1245: UndefinedMetricWarning: Precision and F-score are ill-defined and being set to 0.0 in labels with no predicted samples. Use `zero_division` parameter to control this behavior.\n",
      "  _warn_prf(average, modifier, msg_start, len(result))\n",
      "C:\\Users\\Andres Lojan Yepez\\anaconda3\\lib\\site-packages\\sklearn\\metrics\\_classification.py:1245: UndefinedMetricWarning: Precision and F-score are ill-defined and being set to 0.0 in labels with no predicted samples. Use `zero_division` parameter to control this behavior.\n",
      "  _warn_prf(average, modifier, msg_start, len(result))\n"
     ]
    }
   ],
   "source": [
    "print(f\"F-Score = {metrics.flat_f1_score(ytest, ypred, average='weighted')}\")\n",
    "print(metrics.flat_classification_report(ytest, ypred,  digits=3))"
   ]
  },
  {
   "cell_type": "markdown",
   "metadata": {},
   "source": [
    "### Putting all the prediction logic inside a predict method"
   ]
  },
  {
   "cell_type": "code",
   "execution_count": 60,
   "metadata": {},
   "outputs": [],
   "source": [
    "def predict(sig):\n",
    "    \"\"\"\n",
    "    predict(sig)\n",
    "    Purpose: Labels the given sig into corresponding labels\n",
    "    @param sig. A Sentence  # A medical prescription sig written by a doctor\n",
    "    @return     A list      # A list with predicted labels (first level of labeling)\n",
    "    >>> predict('2 tabs every 4 hours')\n",
    "    [['Qty', 'Form', 'EVERY', 'Period', 'PeriodUnit']]\n",
    "    >>> predict('2 tabs with food')\n",
    "    [['Qty', 'Form', 'WITH', 'FOOD']]\n",
    "    >>> predict('2 tabs qid x 30 days')\n",
    "    [['Qty', 'Form', 'QID', 'FOR', 'Duration', 'DurationUnit']]\n",
    "    \"\"\"\n",
    "    demo = []\n",
    "    sample_data = []\n",
    "    sig = [sig]\n",
    "    for x in sig:\n",
    "        temp = nltk.word_tokenize(x)\n",
    "        pos = nltk.pos_tag(temp)\n",
    "        for y in range(len(pos)):\n",
    "            temp2 = (pos[y][0], pos[y][1], pos[y][1]) \n",
    "            demo.append(temp2) \n",
    "            sample_data.append(demo)\n",
    "            demo = []\n",
    "    data = [get_features(doc) for doc in sample_data]\n",
    "    tagger.open('crf.model')\n",
    "    predictions = [tagger.tag(xseq) for xseq in data]\n",
    "    \n",
    "    return predictions"
   ]
  },
  {
   "cell_type": "markdown",
   "metadata": {},
   "source": [
    "### Sample predictions"
   ]
  },
  {
   "cell_type": "code",
   "execution_count": 61,
   "metadata": {},
   "outputs": [
    {
     "name": "stdout",
     "output_type": "stream",
     "text": [
      "[['Method'], ['Qty'], ['Form'], ['EVERY'], ['Qty'], ['PeriodUnit'], ['PeriodUnit'], ['Qty'], ['DurationUnit']]\n"
     ]
    }
   ],
   "source": [
    "predictions = predict(\"take 2 tabs every 6 hours x 10 days\")\n",
    "print(predictions)"
   ]
  },
  {
   "cell_type": "code",
   "execution_count": 62,
   "metadata": {},
   "outputs": [
    {
     "name": "stdout",
     "output_type": "stream",
     "text": [
      "[['Qty'], ['WHEN'], ['FOR'], ['Qty'], ['PeriodUnit'], ['AT'], ['WHEN']]\n"
     ]
    }
   ],
   "source": [
    "predictions = predict(\"2 capsu for 10 day at bed\")\n",
    "print(predictions)"
   ]
  },
  {
   "cell_type": "code",
   "execution_count": 63,
   "metadata": {},
   "outputs": [
    {
     "name": "stdout",
     "output_type": "stream",
     "text": [
      "[['Qty'], ['WHEN'], ['FOR'], ['Qty'], ['DurationUnit'], ['AT'], ['WHEN']]\n"
     ]
    }
   ],
   "source": [
    "predictions = predict(\"2 capsu for 10 days at bed\")\n",
    "print(predictions)"
   ]
  },
  {
   "cell_type": "code",
   "execution_count": 64,
   "metadata": {},
   "outputs": [
    {
     "name": "stdout",
     "output_type": "stream",
     "text": [
      "[['Qty'], ['DurationUnit'], ['Qty'], ['Form'], ['AT'], ['WHEN']]\n"
     ]
    }
   ],
   "source": [
    "predictions = predict(\"5 days 2 tabs at bed\")\n",
    "print(predictions)"
   ]
  },
  {
   "cell_type": "code",
   "execution_count": 65,
   "metadata": {},
   "outputs": [
    {
     "name": "stdout",
     "output_type": "stream",
     "text": [
      "[['Qty'], ['Form'], ['QID'], ['PeriodUnit'], ['Qty'], ['PeriodUnit']]\n"
     ]
    }
   ],
   "source": [
    "predictions = predict(\"3 tabs qid x 10 weeks\")\n",
    "print(predictions)"
   ]
  },
  {
   "cell_type": "code",
   "execution_count": 66,
   "metadata": {},
   "outputs": [
    {
     "name": "stdout",
     "output_type": "stream",
     "text": [
      "[['PeriodUnit'], ['Qty'], ['DurationUnit']]\n"
     ]
    }
   ],
   "source": [
    "predictions = predict(\"x 30 days\")\n",
    "print(predictions)"
   ]
  },
  {
   "cell_type": "code",
   "execution_count": 67,
   "metadata": {},
   "outputs": [
    {
     "name": "stdout",
     "output_type": "stream",
     "text": [
      "[['PeriodUnit'], ['Qty'], ['PeriodUnit']]\n"
     ]
    }
   ],
   "source": [
    "predictions = predict(\"x 20 months\")\n",
    "print(predictions)"
   ]
  },
  {
   "cell_type": "code",
   "execution_count": 69,
   "metadata": {},
   "outputs": [
    {
     "name": "stdout",
     "output_type": "stream",
     "text": [
      "[['Method'], ['Qty'], ['Form'], ['DAILY'], ['TID'], ['FOR'], ['Qty'], ['DurationUnit']]\n"
     ]
    }
   ],
   "source": [
    "predictions = predict(\"take 2 tabs po tid for 10 days\")\n",
    "print(predictions)"
   ]
  },
  {
   "cell_type": "code",
   "execution_count": 71,
   "metadata": {},
   "outputs": [
    {
     "name": "stdout",
     "output_type": "stream",
     "text": [
      "[['Method'], ['Qty'], ['PeriodUnit'], ['PO'], ['EVERY'], ['Qty'], ['PeriodUnit']]\n"
     ]
    }
   ],
   "source": [
    "predictions = predict(\"take 2 capsules po every 6 hours\")\n",
    "print(predictions)"
   ]
  },
  {
   "cell_type": "code",
   "execution_count": 72,
   "metadata": {},
   "outputs": [
    {
     "name": "stdout",
     "output_type": "stream",
     "text": [
      "[['DAILY'], ['Qty'], ['PeriodUnit'], ['PeriodUnit'], ['TID']]\n"
     ]
    }
   ],
   "source": [
    "predictions = predict(\"inject 2 units pu tid\")\n",
    "print(predictions)"
   ]
  },
  {
   "cell_type": "code",
   "execution_count": 73,
   "metadata": {},
   "outputs": [
    {
     "name": "stdout",
     "output_type": "stream",
     "text": [
      "[['Method'], ['Qty'], ['PeriodUnit'], ['TID'], ['BY'], ['WHEN']]\n"
     ]
    }
   ],
   "source": [
    "predictions = predict(\"swallow 3 caps tid by mouth\")\n",
    "print(predictions)"
   ]
  },
  {
   "cell_type": "code",
   "execution_count": 75,
   "metadata": {},
   "outputs": [
    {
     "name": "stdout",
     "output_type": "stream",
     "text": [
      "[['DAILY'], ['Qty'], ['PeriodUnit'], ['PO']]\n"
     ]
    }
   ],
   "source": [
    "predictions = predict(\"inject 3 units orally\")\n",
    "print(predictions)"
   ]
  },
  {
   "cell_type": "code",
   "execution_count": 76,
   "metadata": {},
   "outputs": [
    {
     "name": "stdout",
     "output_type": "stream",
     "text": [
      "[['PO'], ['PeriodUnit'], ['Qty'], ['Form'], ['TID']]\n"
     ]
    }
   ],
   "source": [
    "predictions = predict(\"orally take 3 tabs tid\")\n",
    "print(predictions)"
   ]
  },
  {
   "cell_type": "code",
   "execution_count": 77,
   "metadata": {},
   "outputs": [
    {
     "name": "stdout",
     "output_type": "stream",
     "text": [
      "[['BY'], ['PeriodUnit'], ['PeriodUnit'], ['Qty'], ['PeriodUnit']]\n"
     ]
    }
   ],
   "source": [
    "predictions = predict(\"by mouth take three caps\")\n",
    "print(predictions)"
   ]
  },
  {
   "cell_type": "code",
   "execution_count": 107,
   "metadata": {},
   "outputs": [
    {
     "name": "stdout",
     "output_type": "stream",
     "text": [
      "[['Method'], ['Qty'], ['Form'], ['PO'], ['Qty'], ['TIMES'], ['Period'], ['PeriodUnit'], ['FOR'], ['Qty'], ['DurationUnit'], ['AT'], ['WHEN']]\n"
     ]
    }
   ],
   "source": [
    "predictions = predict(\"take 3 tabs orally three times a day for 10 days at bedtime\")\n",
    "print(predictions)"
   ]
  },
  {
   "cell_type": "code",
   "execution_count": 108,
   "metadata": {},
   "outputs": [
    {
     "name": "stdout",
     "output_type": "stream",
     "text": [
      "[['Method'], ['Qty'], ['Form'], ['PO'], ['BID'], ['FOR'], ['Qty'], ['DurationUnit'], ['AT'], ['WHEN']]\n"
     ]
    }
   ],
   "source": [
    "predictions = predict(\"take 3 tabs orally bid for 10 days at bedtime\")\n",
    "print(predictions)"
   ]
  },
  {
   "cell_type": "code",
   "execution_count": 106,
   "metadata": {},
   "outputs": [
    {
     "name": "stdout",
     "output_type": "stream",
     "text": [
      "[['Method'], ['Qty'], ['Form'], ['BID'], ['PO'], ['AT'], ['WHEN']]\n"
     ]
    }
   ],
   "source": [
    "predictions = predict(\"take 3 tabs bid orally at bed\")\n",
    "print(predictions)"
   ]
  },
  {
   "cell_type": "code",
   "execution_count": 105,
   "metadata": {},
   "outputs": [
    {
     "name": "stdout",
     "output_type": "stream",
     "text": [
      "[['Method'], ['Qty'], ['PeriodUnit'], ['BY'], ['WHEN'], ['QID']]\n"
     ]
    }
   ],
   "source": [
    "predictions = predict(\"take 10 capsules by mouth qid\")\n",
    "print(predictions)"
   ]
  },
  {
   "cell_type": "code",
   "execution_count": 104,
   "metadata": {},
   "outputs": [
    {
     "name": "stdout",
     "output_type": "stream",
     "text": [
      "[['DAILY'], ['Qty'], ['PeriodUnit'], ['PO'], ['QID'], ['DAILY'], ['Qty'], ['PeriodUnit']]\n"
     ]
    }
   ],
   "source": [
    "predictions = predict(\"inject 10 units orally qid x 3 months\")\n",
    "print(predictions)"
   ]
  },
  {
   "cell_type": "code",
   "execution_count": 103,
   "metadata": {},
   "outputs": [
    {
     "name": "stdout",
     "output_type": "stream",
     "text": [
      "[['BY'], ['PeriodUnit'], ['PeriodUnit'], ['Qty'], ['PeriodUnit']]\n"
     ]
    }
   ],
   "source": [
    "prediction = predict(\"please take 2 tablets per day for a month in the morning and evening each day\")\n",
    "print(predictions)"
   ]
  },
  {
   "cell_type": "code",
   "execution_count": 79,
   "metadata": {},
   "outputs": [
    {
     "name": "stdout",
     "output_type": "stream",
     "text": [
      "[['BY'], ['PeriodUnit'], ['PeriodUnit'], ['Qty'], ['PeriodUnit']]\n"
     ]
    }
   ],
   "source": [
    "prediction = predict(\"Amoxcicillin QID 30 tablets\")\n",
    "print(predictions)"
   ]
  },
  {
   "cell_type": "code",
   "execution_count": 80,
   "metadata": {},
   "outputs": [
    {
     "name": "stdout",
     "output_type": "stream",
     "text": [
      "[['BY'], ['PeriodUnit'], ['PeriodUnit'], ['Qty'], ['PeriodUnit']]\n"
     ]
    }
   ],
   "source": [
    "prediction = predict(\"take 3 tabs TID for 90 days with food\")\n",
    "print(predictions)"
   ]
  },
  {
   "cell_type": "code",
   "execution_count": 81,
   "metadata": {},
   "outputs": [
    {
     "name": "stdout",
     "output_type": "stream",
     "text": [
      "[['BY'], ['PeriodUnit'], ['PeriodUnit'], ['Qty'], ['PeriodUnit']]\n"
     ]
    }
   ],
   "source": [
    "prediction = predict(\"with food take 3 tablets per day for 90 days\")\n",
    "print(predictions)"
   ]
  },
  {
   "cell_type": "code",
   "execution_count": 82,
   "metadata": {},
   "outputs": [
    {
     "name": "stdout",
     "output_type": "stream",
     "text": [
      "[['BY'], ['PeriodUnit'], ['PeriodUnit'], ['Qty'], ['PeriodUnit']]\n"
     ]
    }
   ],
   "source": [
    "prediction = predict(\"with food take 3 tablets per week for 90 weeks\")\n",
    "print(predictions)"
   ]
  },
  {
   "cell_type": "code",
   "execution_count": 83,
   "metadata": {},
   "outputs": [
    {
     "name": "stdout",
     "output_type": "stream",
     "text": [
      "[['BY'], ['PeriodUnit'], ['PeriodUnit'], ['Qty'], ['PeriodUnit']]\n"
     ]
    }
   ],
   "source": [
    "prediction = predict(\"take 2-4 tabs\")\n",
    "print(predictions)"
   ]
  },
  {
   "cell_type": "code",
   "execution_count": 84,
   "metadata": {},
   "outputs": [
    {
     "name": "stdout",
     "output_type": "stream",
     "text": [
      "[['BY'], ['PeriodUnit'], ['PeriodUnit'], ['Qty'], ['PeriodUnit']]\n"
     ]
    }
   ],
   "source": [
    "prediction = predict(\"take 2 to 4 tabs\")\n",
    "print(predictions)"
   ]
  },
  {
   "cell_type": "code",
   "execution_count": 85,
   "metadata": {},
   "outputs": [
    {
     "name": "stdout",
     "output_type": "stream",
     "text": [
      "[['BY'], ['PeriodUnit'], ['PeriodUnit'], ['Qty'], ['PeriodUnit']]\n"
     ]
    }
   ],
   "source": [
    "prediction = predict(\"take two to four tabs\")\n",
    "print(predictions)"
   ]
  },
  {
   "cell_type": "code",
   "execution_count": 86,
   "metadata": {},
   "outputs": [
    {
     "name": "stdout",
     "output_type": "stream",
     "text": [
      "[['BY'], ['PeriodUnit'], ['PeriodUnit'], ['Qty'], ['PeriodUnit']]\n"
     ]
    }
   ],
   "source": [
    "prediction = predict(\"take 2-4 tabs for 8 to 9 days\")\n",
    "print(predictions)"
   ]
  },
  {
   "cell_type": "code",
   "execution_count": 87,
   "metadata": {},
   "outputs": [
    {
     "name": "stdout",
     "output_type": "stream",
     "text": [
      "[['BY'], ['PeriodUnit'], ['PeriodUnit'], ['Qty'], ['PeriodUnit']]\n"
     ]
    }
   ],
   "source": [
    "prediction = predict(\"take 20 tabs every 6 to 8 days\")\n",
    "print(predictions)"
   ]
  },
  {
   "cell_type": "code",
   "execution_count": 88,
   "metadata": {},
   "outputs": [
    {
     "name": "stdout",
     "output_type": "stream",
     "text": [
      "[['BY'], ['PeriodUnit'], ['PeriodUnit'], ['Qty'], ['PeriodUnit']]\n"
     ]
    }
   ],
   "source": [
    "prediction = predict(\"take 2 tabs every 4 to 6 days\")\n",
    "print(predictions)"
   ]
  },
  {
   "cell_type": "code",
   "execution_count": 89,
   "metadata": {},
   "outputs": [
    {
     "name": "stdout",
     "output_type": "stream",
     "text": [
      "[['BY'], ['PeriodUnit'], ['PeriodUnit'], ['Qty'], ['PeriodUnit']]\n"
     ]
    }
   ],
   "source": [
    "prediction = predict(\"take 2 tabs every 2 to 10 weeks\")\n",
    "print(predictions)"
   ]
  },
  {
   "cell_type": "code",
   "execution_count": 90,
   "metadata": {},
   "outputs": [
    {
     "name": "stdout",
     "output_type": "stream",
     "text": [
      "[['BY'], ['PeriodUnit'], ['PeriodUnit'], ['Qty'], ['PeriodUnit']]\n"
     ]
    }
   ],
   "source": [
    "prediction = predict(\"take 2 tabs every 4 to 6 days\")\n",
    "print(predictions)"
   ]
  },
  {
   "cell_type": "code",
   "execution_count": 91,
   "metadata": {},
   "outputs": [
    {
     "name": "stdout",
     "output_type": "stream",
     "text": [
      "[['BY'], ['PeriodUnit'], ['PeriodUnit'], ['Qty'], ['PeriodUnit']]\n"
     ]
    }
   ],
   "source": [
    "prediction = predict(\"take 2 tabs every 2 to 10 months\")\n",
    "print(predictions)"
   ]
  },
  {
   "cell_type": "code",
   "execution_count": 92,
   "metadata": {},
   "outputs": [
    {
     "name": "stdout",
     "output_type": "stream",
     "text": [
      "[['BY'], ['PeriodUnit'], ['PeriodUnit'], ['Qty'], ['PeriodUnit']]\n"
     ]
    }
   ],
   "source": [
    "prediction = predict(\"every 60 mins\")\n",
    "print(predictions)"
   ]
  },
  {
   "cell_type": "code",
   "execution_count": 93,
   "metadata": {},
   "outputs": [
    {
     "name": "stdout",
     "output_type": "stream",
     "text": [
      "[['BY'], ['PeriodUnit'], ['PeriodUnit'], ['Qty'], ['PeriodUnit']]\n"
     ]
    }
   ],
   "source": [
    "prediction = predict(\"every 10 mins\")\n",
    "print(predictions)"
   ]
  },
  {
   "cell_type": "code",
   "execution_count": 94,
   "metadata": {},
   "outputs": [
    {
     "name": "stdout",
     "output_type": "stream",
     "text": [
      "[['BY'], ['PeriodUnit'], ['PeriodUnit'], ['Qty'], ['PeriodUnit']]\n"
     ]
    }
   ],
   "source": [
    "prediction = predict(\"every two to four months\")\n",
    "print(predictions)"
   ]
  },
  {
   "cell_type": "code",
   "execution_count": 95,
   "metadata": {},
   "outputs": [
    {
     "name": "stdout",
     "output_type": "stream",
     "text": [
      "[['BY'], ['PeriodUnit'], ['PeriodUnit'], ['Qty'], ['PeriodUnit']]\n"
     ]
    }
   ],
   "source": [
    "prediction = predict(\"take 2 tabs every 3 to 4 days\")\n",
    "print(predictions)"
   ]
  },
  {
   "cell_type": "code",
   "execution_count": 96,
   "metadata": {},
   "outputs": [
    {
     "name": "stdout",
     "output_type": "stream",
     "text": [
      "[['BY'], ['PeriodUnit'], ['PeriodUnit'], ['Qty'], ['PeriodUnit']]\n"
     ]
    }
   ],
   "source": [
    "prediction = predict(\"every 3 to 4 days take 20 tabs\")\n",
    "print(predictions)"
   ]
  },
  {
   "cell_type": "code",
   "execution_count": 97,
   "metadata": {},
   "outputs": [
    {
     "name": "stdout",
     "output_type": "stream",
     "text": [
      "[['BY'], ['PeriodUnit'], ['PeriodUnit'], ['Qty'], ['PeriodUnit']]\n"
     ]
    }
   ],
   "source": [
    "prediction = predict(\"once in every 3 days take 3 tabs\")\n",
    "print(predictions)"
   ]
  },
  {
   "cell_type": "code",
   "execution_count": 98,
   "metadata": {},
   "outputs": [
    {
     "name": "stdout",
     "output_type": "stream",
     "text": [
      "[['BY'], ['PeriodUnit'], ['PeriodUnit'], ['Qty'], ['PeriodUnit']]\n"
     ]
    }
   ],
   "source": [
    "prediction = predict(\"take 3 tabs once in every 3 days\")\n",
    "print(predictions)"
   ]
  },
  {
   "cell_type": "code",
   "execution_count": 99,
   "metadata": {},
   "outputs": [
    {
     "name": "stdout",
     "output_type": "stream",
     "text": [
      "[['BY'], ['PeriodUnit'], ['PeriodUnit'], ['Qty'], ['PeriodUnit']]\n"
     ]
    }
   ],
   "source": [
    "prediction = predict(\"orally take 20 tabs every 4-6 weeks\")\n",
    "print(predictions)"
   ]
  },
  {
   "cell_type": "code",
   "execution_count": 100,
   "metadata": {},
   "outputs": [
    {
     "name": "stdout",
     "output_type": "stream",
     "text": [
      "[['BY'], ['PeriodUnit'], ['PeriodUnit'], ['Qty'], ['PeriodUnit']]\n"
     ]
    }
   ],
   "source": [
    "prediction = predict(\"10 tabs x 2 days\")\n",
    "print(predictions)"
   ]
  },
  {
   "cell_type": "code",
   "execution_count": 101,
   "metadata": {},
   "outputs": [
    {
     "name": "stdout",
     "output_type": "stream",
     "text": [
      "[['BY'], ['PeriodUnit'], ['PeriodUnit'], ['Qty'], ['PeriodUnit']]\n"
     ]
    }
   ],
   "source": [
    "prediction = predict(\"3 capsule x 15 days\")\n",
    "print(predictions)"
   ]
  },
  {
   "cell_type": "code",
   "execution_count": 102,
   "metadata": {},
   "outputs": [
    {
     "name": "stdout",
     "output_type": "stream",
     "text": [
      "[['BY'], ['PeriodUnit'], ['PeriodUnit'], ['Qty'], ['PeriodUnit']]\n"
     ]
    }
   ],
   "source": [
    "prediction = predict(\"10 tabs\")\n",
    "print(predictions)"
   ]
  }
 ],
 "metadata": {
  "kernelspec": {
   "display_name": "Python 3 (ipykernel)",
   "language": "python",
   "name": "python3"
  },
  "language_info": {
   "codemirror_mode": {
    "name": "ipython",
    "version": 3
   },
   "file_extension": ".py",
   "mimetype": "text/x-python",
   "name": "python",
   "nbconvert_exporter": "python",
   "pygments_lexer": "ipython3",
   "version": "3.8.12"
  }
 },
 "nbformat": 4,
 "nbformat_minor": 2
}
